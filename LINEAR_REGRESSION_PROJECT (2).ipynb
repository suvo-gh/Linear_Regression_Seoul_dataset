{
  "nbformat": 4,
  "nbformat_minor": 0,
  "metadata": {
    "colab": {
      "name": "LINEAR_REGRESSION_PROJECT.ipynb",
      "provenance": [],
      "collapsed_sections": []
    },
    "kernelspec": {
      "name": "python3",
      "display_name": "Python 3"
    },
    "language_info": {
      "name": "python"
    }
  },
  "cells": [
    {
      "cell_type": "markdown",
      "metadata": {
        "id": "IAmN6C_5k9i4"
      },
      "source": [
        "**Project Intro**\n",
        "\n",
        "Trip duration is the most fundamental measure in all modes of transportation. Hence, it is crucial to predict the trip-time precisely for the advancement of Intelligent Transport Systems (ITS) and traveller information systems. In order to predict the trip duration, data mining techniques are employed in this project to predict the trip duration of rental bikes in Seoul Bike sharing system. The prediction is carried out with the combination of Seoul Bike data and weather data.\n",
        "\n",
        "\n",
        "**Please use the Seoul Bike dataset.**\n",
        "\n",
        "\n",
        "What are the factors that influence the number of bikes rented?\n",
        "\n",
        "Explore the data for outliers and missing values.\n",
        "\n",
        "Plot the correlation between the variables and state your comments\n",
        "\n",
        "Please build a linear regression model to predict rented bike count by choosing appropriate independentvariables.\n",
        "\n",
        "Coment on Model performance by using approapriate diagnostics and measures."
      ]
    },
    {
      "cell_type": "code",
      "metadata": {
        "id": "jgs2V65EljPO"
      },
      "source": [
        "import numpy as np # linear algebra\n",
        "import pandas as pd # data processing, CSV file I/O (e.g. pd.read_csv)\n",
        "import matplotlib.pyplot as plt \n",
        "import seaborn as sns\n",
        "from pandas.api.types import is_string_dtype\n",
        "from pandas.api.types import is_numeric_dtype\n"
      ],
      "execution_count": 493,
      "outputs": []
    },
    {
      "cell_type": "code",
      "metadata": {
        "id": "9R1zmu99tg8h"
      },
      "source": [
        "import warnings\n",
        "warnings.filterwarnings('ignore')"
      ],
      "execution_count": 494,
      "outputs": []
    },
    {
      "cell_type": "markdown",
      "metadata": {
        "id": "OuH9jl2oxSmO"
      },
      "source": [
        "### Read Data"
      ]
    },
    {
      "cell_type": "code",
      "metadata": {
        "colab": {
          "base_uri": "https://localhost:8080/",
          "height": 643
        },
        "id": "Set8hFG0tlGk",
        "outputId": "d7ad57bb-8311-45ff-ebcb-fe6599fd76d6"
      },
      "source": [
        "df = pd.read_csv('/content/SeoulBikeData.csv')\n",
        "df"
      ],
      "execution_count": 495,
      "outputs": [
        {
          "output_type": "execute_result",
          "data": {
            "text/html": [
              "<div>\n",
              "<style scoped>\n",
              "    .dataframe tbody tr th:only-of-type {\n",
              "        vertical-align: middle;\n",
              "    }\n",
              "\n",
              "    .dataframe tbody tr th {\n",
              "        vertical-align: top;\n",
              "    }\n",
              "\n",
              "    .dataframe thead th {\n",
              "        text-align: right;\n",
              "    }\n",
              "</style>\n",
              "<table border=\"1\" class=\"dataframe\">\n",
              "  <thead>\n",
              "    <tr style=\"text-align: right;\">\n",
              "      <th></th>\n",
              "      <th>Date</th>\n",
              "      <th>Rented Bike Count</th>\n",
              "      <th>Hour</th>\n",
              "      <th>Temperature(C)</th>\n",
              "      <th>Humidity(%)</th>\n",
              "      <th>Wind speed (m/s)</th>\n",
              "      <th>Visibility (10m)</th>\n",
              "      <th>Dew point temperature(C)</th>\n",
              "      <th>Solar Radiation (MJ/m2)</th>\n",
              "      <th>Rainfall(mm)</th>\n",
              "      <th>Snowfall (cm)</th>\n",
              "      <th>Seasons</th>\n",
              "      <th>Holiday</th>\n",
              "      <th>Functioning Day</th>\n",
              "    </tr>\n",
              "  </thead>\n",
              "  <tbody>\n",
              "    <tr>\n",
              "      <th>0</th>\n",
              "      <td>01/12/2017</td>\n",
              "      <td>254</td>\n",
              "      <td>0</td>\n",
              "      <td>-5.2</td>\n",
              "      <td>37</td>\n",
              "      <td>2.2</td>\n",
              "      <td>2000</td>\n",
              "      <td>-17.6</td>\n",
              "      <td>0.0</td>\n",
              "      <td>0.0</td>\n",
              "      <td>0.0</td>\n",
              "      <td>Winter</td>\n",
              "      <td>No Holiday</td>\n",
              "      <td>Yes</td>\n",
              "    </tr>\n",
              "    <tr>\n",
              "      <th>1</th>\n",
              "      <td>01/12/2017</td>\n",
              "      <td>204</td>\n",
              "      <td>1</td>\n",
              "      <td>-5.5</td>\n",
              "      <td>38</td>\n",
              "      <td>0.8</td>\n",
              "      <td>2000</td>\n",
              "      <td>-17.6</td>\n",
              "      <td>0.0</td>\n",
              "      <td>0.0</td>\n",
              "      <td>0.0</td>\n",
              "      <td>Winter</td>\n",
              "      <td>No Holiday</td>\n",
              "      <td>Yes</td>\n",
              "    </tr>\n",
              "    <tr>\n",
              "      <th>2</th>\n",
              "      <td>01/12/2017</td>\n",
              "      <td>173</td>\n",
              "      <td>2</td>\n",
              "      <td>-6.0</td>\n",
              "      <td>39</td>\n",
              "      <td>1.0</td>\n",
              "      <td>2000</td>\n",
              "      <td>-17.7</td>\n",
              "      <td>0.0</td>\n",
              "      <td>0.0</td>\n",
              "      <td>0.0</td>\n",
              "      <td>Winter</td>\n",
              "      <td>No Holiday</td>\n",
              "      <td>Yes</td>\n",
              "    </tr>\n",
              "    <tr>\n",
              "      <th>3</th>\n",
              "      <td>01/12/2017</td>\n",
              "      <td>107</td>\n",
              "      <td>3</td>\n",
              "      <td>-6.2</td>\n",
              "      <td>40</td>\n",
              "      <td>0.9</td>\n",
              "      <td>2000</td>\n",
              "      <td>-17.6</td>\n",
              "      <td>0.0</td>\n",
              "      <td>0.0</td>\n",
              "      <td>0.0</td>\n",
              "      <td>Winter</td>\n",
              "      <td>No Holiday</td>\n",
              "      <td>Yes</td>\n",
              "    </tr>\n",
              "    <tr>\n",
              "      <th>4</th>\n",
              "      <td>01/12/2017</td>\n",
              "      <td>78</td>\n",
              "      <td>4</td>\n",
              "      <td>-6.0</td>\n",
              "      <td>36</td>\n",
              "      <td>2.3</td>\n",
              "      <td>2000</td>\n",
              "      <td>-18.6</td>\n",
              "      <td>0.0</td>\n",
              "      <td>0.0</td>\n",
              "      <td>0.0</td>\n",
              "      <td>Winter</td>\n",
              "      <td>No Holiday</td>\n",
              "      <td>Yes</td>\n",
              "    </tr>\n",
              "    <tr>\n",
              "      <th>...</th>\n",
              "      <td>...</td>\n",
              "      <td>...</td>\n",
              "      <td>...</td>\n",
              "      <td>...</td>\n",
              "      <td>...</td>\n",
              "      <td>...</td>\n",
              "      <td>...</td>\n",
              "      <td>...</td>\n",
              "      <td>...</td>\n",
              "      <td>...</td>\n",
              "      <td>...</td>\n",
              "      <td>...</td>\n",
              "      <td>...</td>\n",
              "      <td>...</td>\n",
              "    </tr>\n",
              "    <tr>\n",
              "      <th>8755</th>\n",
              "      <td>30/11/2018</td>\n",
              "      <td>1003</td>\n",
              "      <td>19</td>\n",
              "      <td>4.2</td>\n",
              "      <td>34</td>\n",
              "      <td>2.6</td>\n",
              "      <td>1894</td>\n",
              "      <td>-10.3</td>\n",
              "      <td>0.0</td>\n",
              "      <td>0.0</td>\n",
              "      <td>0.0</td>\n",
              "      <td>Autumn</td>\n",
              "      <td>No Holiday</td>\n",
              "      <td>Yes</td>\n",
              "    </tr>\n",
              "    <tr>\n",
              "      <th>8756</th>\n",
              "      <td>30/11/2018</td>\n",
              "      <td>764</td>\n",
              "      <td>20</td>\n",
              "      <td>3.4</td>\n",
              "      <td>37</td>\n",
              "      <td>2.3</td>\n",
              "      <td>2000</td>\n",
              "      <td>-9.9</td>\n",
              "      <td>0.0</td>\n",
              "      <td>0.0</td>\n",
              "      <td>0.0</td>\n",
              "      <td>Autumn</td>\n",
              "      <td>No Holiday</td>\n",
              "      <td>Yes</td>\n",
              "    </tr>\n",
              "    <tr>\n",
              "      <th>8757</th>\n",
              "      <td>30/11/2018</td>\n",
              "      <td>694</td>\n",
              "      <td>21</td>\n",
              "      <td>2.6</td>\n",
              "      <td>39</td>\n",
              "      <td>0.3</td>\n",
              "      <td>1968</td>\n",
              "      <td>-9.9</td>\n",
              "      <td>0.0</td>\n",
              "      <td>0.0</td>\n",
              "      <td>0.0</td>\n",
              "      <td>Autumn</td>\n",
              "      <td>No Holiday</td>\n",
              "      <td>Yes</td>\n",
              "    </tr>\n",
              "    <tr>\n",
              "      <th>8758</th>\n",
              "      <td>30/11/2018</td>\n",
              "      <td>712</td>\n",
              "      <td>22</td>\n",
              "      <td>2.1</td>\n",
              "      <td>41</td>\n",
              "      <td>1.0</td>\n",
              "      <td>1859</td>\n",
              "      <td>-9.8</td>\n",
              "      <td>0.0</td>\n",
              "      <td>0.0</td>\n",
              "      <td>0.0</td>\n",
              "      <td>Autumn</td>\n",
              "      <td>No Holiday</td>\n",
              "      <td>Yes</td>\n",
              "    </tr>\n",
              "    <tr>\n",
              "      <th>8759</th>\n",
              "      <td>30/11/2018</td>\n",
              "      <td>584</td>\n",
              "      <td>23</td>\n",
              "      <td>1.9</td>\n",
              "      <td>43</td>\n",
              "      <td>1.3</td>\n",
              "      <td>1909</td>\n",
              "      <td>-9.3</td>\n",
              "      <td>0.0</td>\n",
              "      <td>0.0</td>\n",
              "      <td>0.0</td>\n",
              "      <td>Autumn</td>\n",
              "      <td>No Holiday</td>\n",
              "      <td>Yes</td>\n",
              "    </tr>\n",
              "  </tbody>\n",
              "</table>\n",
              "<p>8760 rows × 14 columns</p>\n",
              "</div>"
            ],
            "text/plain": [
              "            Date  Rented Bike Count  Hour  ...  Seasons     Holiday  Functioning Day\n",
              "0     01/12/2017                254     0  ...   Winter  No Holiday              Yes\n",
              "1     01/12/2017                204     1  ...   Winter  No Holiday              Yes\n",
              "2     01/12/2017                173     2  ...   Winter  No Holiday              Yes\n",
              "3     01/12/2017                107     3  ...   Winter  No Holiday              Yes\n",
              "4     01/12/2017                 78     4  ...   Winter  No Holiday              Yes\n",
              "...          ...                ...   ...  ...      ...         ...              ...\n",
              "8755  30/11/2018               1003    19  ...   Autumn  No Holiday              Yes\n",
              "8756  30/11/2018                764    20  ...   Autumn  No Holiday              Yes\n",
              "8757  30/11/2018                694    21  ...   Autumn  No Holiday              Yes\n",
              "8758  30/11/2018                712    22  ...   Autumn  No Holiday              Yes\n",
              "8759  30/11/2018                584    23  ...   Autumn  No Holiday              Yes\n",
              "\n",
              "[8760 rows x 14 columns]"
            ]
          },
          "metadata": {},
          "execution_count": 495
        }
      ]
    },
    {
      "cell_type": "code",
      "metadata": {
        "colab": {
          "base_uri": "https://localhost:8080/",
          "height": 343
        },
        "id": "207ylvPHt1CJ",
        "outputId": "4993fe8b-f294-4ce1-b0ae-0cb92e0e752b"
      },
      "source": [
        "df.head()"
      ],
      "execution_count": 496,
      "outputs": [
        {
          "output_type": "execute_result",
          "data": {
            "text/html": [
              "<div>\n",
              "<style scoped>\n",
              "    .dataframe tbody tr th:only-of-type {\n",
              "        vertical-align: middle;\n",
              "    }\n",
              "\n",
              "    .dataframe tbody tr th {\n",
              "        vertical-align: top;\n",
              "    }\n",
              "\n",
              "    .dataframe thead th {\n",
              "        text-align: right;\n",
              "    }\n",
              "</style>\n",
              "<table border=\"1\" class=\"dataframe\">\n",
              "  <thead>\n",
              "    <tr style=\"text-align: right;\">\n",
              "      <th></th>\n",
              "      <th>Date</th>\n",
              "      <th>Rented Bike Count</th>\n",
              "      <th>Hour</th>\n",
              "      <th>Temperature(C)</th>\n",
              "      <th>Humidity(%)</th>\n",
              "      <th>Wind speed (m/s)</th>\n",
              "      <th>Visibility (10m)</th>\n",
              "      <th>Dew point temperature(C)</th>\n",
              "      <th>Solar Radiation (MJ/m2)</th>\n",
              "      <th>Rainfall(mm)</th>\n",
              "      <th>Snowfall (cm)</th>\n",
              "      <th>Seasons</th>\n",
              "      <th>Holiday</th>\n",
              "      <th>Functioning Day</th>\n",
              "    </tr>\n",
              "  </thead>\n",
              "  <tbody>\n",
              "    <tr>\n",
              "      <th>0</th>\n",
              "      <td>01/12/2017</td>\n",
              "      <td>254</td>\n",
              "      <td>0</td>\n",
              "      <td>-5.2</td>\n",
              "      <td>37</td>\n",
              "      <td>2.2</td>\n",
              "      <td>2000</td>\n",
              "      <td>-17.6</td>\n",
              "      <td>0.0</td>\n",
              "      <td>0.0</td>\n",
              "      <td>0.0</td>\n",
              "      <td>Winter</td>\n",
              "      <td>No Holiday</td>\n",
              "      <td>Yes</td>\n",
              "    </tr>\n",
              "    <tr>\n",
              "      <th>1</th>\n",
              "      <td>01/12/2017</td>\n",
              "      <td>204</td>\n",
              "      <td>1</td>\n",
              "      <td>-5.5</td>\n",
              "      <td>38</td>\n",
              "      <td>0.8</td>\n",
              "      <td>2000</td>\n",
              "      <td>-17.6</td>\n",
              "      <td>0.0</td>\n",
              "      <td>0.0</td>\n",
              "      <td>0.0</td>\n",
              "      <td>Winter</td>\n",
              "      <td>No Holiday</td>\n",
              "      <td>Yes</td>\n",
              "    </tr>\n",
              "    <tr>\n",
              "      <th>2</th>\n",
              "      <td>01/12/2017</td>\n",
              "      <td>173</td>\n",
              "      <td>2</td>\n",
              "      <td>-6.0</td>\n",
              "      <td>39</td>\n",
              "      <td>1.0</td>\n",
              "      <td>2000</td>\n",
              "      <td>-17.7</td>\n",
              "      <td>0.0</td>\n",
              "      <td>0.0</td>\n",
              "      <td>0.0</td>\n",
              "      <td>Winter</td>\n",
              "      <td>No Holiday</td>\n",
              "      <td>Yes</td>\n",
              "    </tr>\n",
              "    <tr>\n",
              "      <th>3</th>\n",
              "      <td>01/12/2017</td>\n",
              "      <td>107</td>\n",
              "      <td>3</td>\n",
              "      <td>-6.2</td>\n",
              "      <td>40</td>\n",
              "      <td>0.9</td>\n",
              "      <td>2000</td>\n",
              "      <td>-17.6</td>\n",
              "      <td>0.0</td>\n",
              "      <td>0.0</td>\n",
              "      <td>0.0</td>\n",
              "      <td>Winter</td>\n",
              "      <td>No Holiday</td>\n",
              "      <td>Yes</td>\n",
              "    </tr>\n",
              "    <tr>\n",
              "      <th>4</th>\n",
              "      <td>01/12/2017</td>\n",
              "      <td>78</td>\n",
              "      <td>4</td>\n",
              "      <td>-6.0</td>\n",
              "      <td>36</td>\n",
              "      <td>2.3</td>\n",
              "      <td>2000</td>\n",
              "      <td>-18.6</td>\n",
              "      <td>0.0</td>\n",
              "      <td>0.0</td>\n",
              "      <td>0.0</td>\n",
              "      <td>Winter</td>\n",
              "      <td>No Holiday</td>\n",
              "      <td>Yes</td>\n",
              "    </tr>\n",
              "  </tbody>\n",
              "</table>\n",
              "</div>"
            ],
            "text/plain": [
              "         Date  Rented Bike Count  Hour  ...  Seasons     Holiday  Functioning Day\n",
              "0  01/12/2017                254     0  ...   Winter  No Holiday              Yes\n",
              "1  01/12/2017                204     1  ...   Winter  No Holiday              Yes\n",
              "2  01/12/2017                173     2  ...   Winter  No Holiday              Yes\n",
              "3  01/12/2017                107     3  ...   Winter  No Holiday              Yes\n",
              "4  01/12/2017                 78     4  ...   Winter  No Holiday              Yes\n",
              "\n",
              "[5 rows x 14 columns]"
            ]
          },
          "metadata": {},
          "execution_count": 496
        }
      ]
    },
    {
      "cell_type": "code",
      "metadata": {
        "colab": {
          "base_uri": "https://localhost:8080/"
        },
        "id": "-yGdBRlSt5Se",
        "outputId": "4f113fab-3ff8-474e-f45c-c8dd1fa8a8f4"
      },
      "source": [
        "df.info()"
      ],
      "execution_count": 497,
      "outputs": [
        {
          "output_type": "stream",
          "name": "stdout",
          "text": [
            "<class 'pandas.core.frame.DataFrame'>\n",
            "RangeIndex: 8760 entries, 0 to 8759\n",
            "Data columns (total 14 columns):\n",
            " #   Column                    Non-Null Count  Dtype  \n",
            "---  ------                    --------------  -----  \n",
            " 0   Date                      8760 non-null   object \n",
            " 1   Rented Bike Count         8760 non-null   int64  \n",
            " 2   Hour                      8760 non-null   int64  \n",
            " 3   Temperature(C)            8760 non-null   float64\n",
            " 4   Humidity(%)               8760 non-null   int64  \n",
            " 5   Wind speed (m/s)          8760 non-null   float64\n",
            " 6   Visibility (10m)          8760 non-null   int64  \n",
            " 7   Dew point temperature(C)  8760 non-null   float64\n",
            " 8   Solar Radiation (MJ/m2)   8760 non-null   float64\n",
            " 9   Rainfall(mm)              8760 non-null   float64\n",
            " 10  Snowfall (cm)             8760 non-null   float64\n",
            " 11  Seasons                   8760 non-null   object \n",
            " 12  Holiday                   8760 non-null   object \n",
            " 13  Functioning Day           8760 non-null   object \n",
            "dtypes: float64(6), int64(4), object(4)\n",
            "memory usage: 958.2+ KB\n"
          ]
        }
      ]
    },
    {
      "cell_type": "markdown",
      "metadata": {
        "id": "7Nf9DMBgpLWR"
      },
      "source": [
        "###Factors influencing no. of bikes rented"
      ]
    },
    {
      "cell_type": "code",
      "metadata": {
        "colab": {
          "base_uri": "https://localhost:8080/"
        },
        "id": "Wks2dnF6pTbk",
        "outputId": "d4e84833-2ed4-4e0b-9323-2d6f1613092f"
      },
      "source": [
        "print(\"Factors influencing bikes rented:\",df.columns.values)"
      ],
      "execution_count": 498,
      "outputs": [
        {
          "output_type": "stream",
          "name": "stdout",
          "text": [
            "Factors influencing bikes rented: ['Date' 'Rented Bike Count' 'Hour' 'Temperature(C)' 'Humidity(%)'\n",
            " 'Wind speed (m/s)' 'Visibility (10m)' 'Dew point temperature(C)'\n",
            " 'Solar Radiation (MJ/m2)' 'Rainfall(mm)' 'Snowfall (cm)' 'Seasons'\n",
            " 'Holiday' 'Functioning Day']\n"
          ]
        }
      ]
    },
    {
      "cell_type": "markdown",
      "metadata": {
        "id": "4EN1mEV_xXaG"
      },
      "source": [
        "### Dimensions of the data"
      ]
    },
    {
      "cell_type": "code",
      "metadata": {
        "colab": {
          "base_uri": "https://localhost:8080/"
        },
        "id": "3IbxtB-Dt83G",
        "outputId": "f22bd834-f9e8-4ce2-8a83-fb7936db8cbc"
      },
      "source": [
        "df.shape"
      ],
      "execution_count": 499,
      "outputs": [
        {
          "output_type": "execute_result",
          "data": {
            "text/plain": [
              "(8760, 14)"
            ]
          },
          "metadata": {},
          "execution_count": 499
        }
      ]
    },
    {
      "cell_type": "markdown",
      "metadata": {
        "id": "W1SPFPu3uEZG"
      },
      "source": [
        "### Explore the data for outliers and missing values.\n",
        "\n"
      ]
    },
    {
      "cell_type": "code",
      "metadata": {
        "colab": {
          "base_uri": "https://localhost:8080/"
        },
        "id": "bWw-3Hc_yfhx",
        "outputId": "17c29be9-726e-43eb-d61f-6dfcd3a4af42"
      },
      "source": [
        "df.isnull().sum()"
      ],
      "execution_count": 500,
      "outputs": [
        {
          "output_type": "execute_result",
          "data": {
            "text/plain": [
              "Date                        0\n",
              "Rented Bike Count           0\n",
              "Hour                        0\n",
              "Temperature(C)              0\n",
              "Humidity(%)                 0\n",
              "Wind speed (m/s)            0\n",
              "Visibility (10m)            0\n",
              "Dew point temperature(C)    0\n",
              "Solar Radiation (MJ/m2)     0\n",
              "Rainfall(mm)                0\n",
              "Snowfall (cm)               0\n",
              "Seasons                     0\n",
              "Holiday                     0\n",
              "Functioning Day             0\n",
              "dtype: int64"
            ]
          },
          "metadata": {},
          "execution_count": 500
        }
      ]
    },
    {
      "cell_type": "markdown",
      "metadata": {
        "id": "gWKrZHGNuRKy"
      },
      "source": [
        "### Another way to find the missing values is to plot a heatmap for visualization."
      ]
    },
    {
      "cell_type": "code",
      "metadata": {
        "colab": {
          "base_uri": "https://localhost:8080/",
          "height": 390
        },
        "id": "wicFdTJqt5u2",
        "outputId": "2d3d8325-fc20-48f9-e35c-af45397b8315"
      },
      "source": [
        "# plot heatmap to check null values\n",
        "# 'cbar = False' does not show the color axis \n",
        "sns.heatmap(df.isnull(), cbar=False)\n",
        "\n",
        "# display the plot\n",
        "plt.show()"
      ],
      "execution_count": 501,
      "outputs": [
        {
          "output_type": "display_data",
          "data": {
            "image/png": "[encoded data removed]",
            "text/plain": [
              "<Figure size 432x288 with 1 Axes>"
            ]
          },
          "metadata": {
            "needs_background": "light"
          }
        }
      ]
    },
    {
      "cell_type": "markdown",
      "metadata": {
        "id": "-9rX_c6otpAi"
      },
      "source": [
        "#### There are no horizontal lines in the heatmap which would correspond to a probable missing values."
      ]
    },
    {
      "cell_type": "code",
      "metadata": {
        "colab": {
          "base_uri": "https://localhost:8080/",
          "height": 173
        },
        "id": "IsmRgrJ5ydpD",
        "outputId": "2be6559c-fae9-4231-c409-b4af87fe85df"
      },
      "source": [
        "# summary of categorical variables\n",
        "df.describe(include=object)\n",
        "\n",
        "# Note: If we pass 'include=object' to the .describe(), it will return descriptive statistics for categorical variables only"
      ],
      "execution_count": 502,
      "outputs": [
        {
          "output_type": "execute_result",
          "data": {
            "text/html": [
              "<div>\n",
              "<style scoped>\n",
              "    .dataframe tbody tr th:only-of-type {\n",
              "        vertical-align: middle;\n",
              "    }\n",
              "\n",
              "    .dataframe tbody tr th {\n",
              "        vertical-align: top;\n",
              "    }\n",
              "\n",
              "    .dataframe thead th {\n",
              "        text-align: right;\n",
              "    }\n",
              "</style>\n",
              "<table border=\"1\" class=\"dataframe\">\n",
              "  <thead>\n",
              "    <tr style=\"text-align: right;\">\n",
              "      <th></th>\n",
              "      <th>Date</th>\n",
              "      <th>Seasons</th>\n",
              "      <th>Holiday</th>\n",
              "      <th>Functioning Day</th>\n",
              "    </tr>\n",
              "  </thead>\n",
              "  <tbody>\n",
              "    <tr>\n",
              "      <th>count</th>\n",
              "      <td>8760</td>\n",
              "      <td>8760</td>\n",
              "      <td>8760</td>\n",
              "      <td>8760</td>\n",
              "    </tr>\n",
              "    <tr>\n",
              "      <th>unique</th>\n",
              "      <td>365</td>\n",
              "      <td>4</td>\n",
              "      <td>2</td>\n",
              "      <td>2</td>\n",
              "    </tr>\n",
              "    <tr>\n",
              "      <th>top</th>\n",
              "      <td>03/05/2018</td>\n",
              "      <td>Summer</td>\n",
              "      <td>No Holiday</td>\n",
              "      <td>Yes</td>\n",
              "    </tr>\n",
              "    <tr>\n",
              "      <th>freq</th>\n",
              "      <td>24</td>\n",
              "      <td>2208</td>\n",
              "      <td>8328</td>\n",
              "      <td>8465</td>\n",
              "    </tr>\n",
              "  </tbody>\n",
              "</table>\n",
              "</div>"
            ],
            "text/plain": [
              "              Date Seasons     Holiday Functioning Day\n",
              "count         8760    8760        8760            8760\n",
              "unique         365       4           2               2\n",
              "top     03/05/2018  Summer  No Holiday             Yes\n",
              "freq            24    2208        8328            8465"
            ]
          },
          "metadata": {},
          "execution_count": 502
        }
      ]
    },
    {
      "cell_type": "code",
      "metadata": {
        "colab": {
          "base_uri": "https://localhost:8080/"
        },
        "id": "YL9SRY4szGkM",
        "outputId": "d4bebf12-493f-4520-b2b1-a3d38e1c2197"
      },
      "source": [
        "# filter the numerical features in the dataset using select_dtypes()\n",
        "# include=np.number: selects the numeric features\n",
        "df_numeric_features = df.select_dtypes(include=np.number)\n",
        "\n",
        "# display the numeric features\n",
        "df_numeric_features.columns"
      ],
      "execution_count": 503,
      "outputs": [
        {
          "output_type": "execute_result",
          "data": {
            "text/plain": [
              "Index(['Rented Bike Count', 'Hour', 'Temperature(C)', 'Humidity(%)',\n",
              "       'Wind speed (m/s)', 'Visibility (10m)', 'Dew point temperature(C)',\n",
              "       'Solar Radiation (MJ/m2)', 'Rainfall(mm)', 'Snowfall (cm)'],\n",
              "      dtype='object')"
            ]
          },
          "metadata": {},
          "execution_count": 503
        }
      ]
    },
    {
      "cell_type": "code",
      "metadata": {
        "colab": {
          "base_uri": "https://localhost:8080/",
          "height": 297
        },
        "id": "Ta0KE1euzVrN",
        "outputId": "708e863c-e60f-4bc8-878b-3cf0bc0a054e"
      },
      "source": [
        "# plot the histogram of numeric variables\n",
        "# the hist() function considers the numeric variables only, by default\n",
        "# rotate the x-axis labels by 20 degree using the parameter, 'xrot'\n",
        "df.hist(xrot = 20, )\n",
        "\n",
        "# adjust the subplots\n",
        "plt.tight_layout()\n",
        "\n",
        "# display the plot\n",
        "plt.show()  "
      ],
      "execution_count": 504,
      "outputs": [
        {
          "output_type": "display_data",
          "data": {
            "image/png": "[encoded data removed]",
            "text/plain": [
              "<Figure size 432x288 with 12 Axes>"
            ]
          },
          "metadata": {
            "needs_background": "light"
          }
        }
      ]
    },
    {
      "cell_type": "code",
      "metadata": {
        "colab": {
          "base_uri": "https://localhost:8080/"
        },
        "id": "olDXHmjp6k6K",
        "outputId": "368741ca-8309-4b6d-fcbf-889925b01e8f"
      },
      "source": [
        "df.dtypes"
      ],
      "execution_count": 505,
      "outputs": [
        {
          "output_type": "execute_result",
          "data": {
            "text/plain": [
              "Date                         object\n",
              "Rented Bike Count             int64\n",
              "Hour                          int64\n",
              "Temperature(C)              float64\n",
              "Humidity(%)                   int64\n",
              "Wind speed (m/s)            float64\n",
              "Visibility (10m)              int64\n",
              "Dew point temperature(C)    float64\n",
              "Solar Radiation (MJ/m2)     float64\n",
              "Rainfall(mm)                float64\n",
              "Snowfall (cm)               float64\n",
              "Seasons                      object\n",
              "Holiday                      object\n",
              "Functioning Day              object\n",
              "dtype: object"
            ]
          },
          "metadata": {},
          "execution_count": 505
        }
      ]
    },
    {
      "cell_type": "code",
      "metadata": {
        "colab": {
          "base_uri": "https://localhost:8080/",
          "height": 1000
        },
        "id": "DunuiBGeW-o3",
        "outputId": "47baa2d0-9e9d-43e8-e6b2-af5c45869ce6"
      },
      "source": [
        "#Considering date\n",
        "from datetime import datetime\n",
        "df.Date=pd.to_datetime(df.Date )\n",
        "df.info()\n",
        "df['Month']=pd.DatetimeIndex(df['Date']).month\n",
        "df"
      ],
      "execution_count": 506,
      "outputs": [
        {
          "output_type": "stream",
          "name": "stdout",
          "text": [
            "<class 'pandas.core.frame.DataFrame'>\n",
            "RangeIndex: 8760 entries, 0 to 8759\n",
            "Data columns (total 14 columns):\n",
            " #   Column                    Non-Null Count  Dtype         \n",
            "---  ------                    --------------  -----         \n",
            " 0   Date                      8760 non-null   datetime64[ns]\n",
            " 1   Rented Bike Count         8760 non-null   int64         \n",
            " 2   Hour                      8760 non-null   int64         \n",
            " 3   Temperature(C)            8760 non-null   float64       \n",
            " 4   Humidity(%)               8760 non-null   int64         \n",
            " 5   Wind speed (m/s)          8760 non-null   float64       \n",
            " 6   Visibility (10m)          8760 non-null   int64         \n",
            " 7   Dew point temperature(C)  8760 non-null   float64       \n",
            " 8   Solar Radiation (MJ/m2)   8760 non-null   float64       \n",
            " 9   Rainfall(mm)              8760 non-null   float64       \n",
            " 10  Snowfall (cm)             8760 non-null   float64       \n",
            " 11  Seasons                   8760 non-null   object        \n",
            " 12  Holiday                   8760 non-null   object        \n",
            " 13  Functioning Day           8760 non-null   object        \n",
            "dtypes: datetime64[ns](1), float64(6), int64(4), object(3)\n",
            "memory usage: 958.2+ KB\n"
          ]
        },
        {
          "output_type": "execute_result",
          "data": {
            "text/html": [
              "<div>\n",
              "<style scoped>\n",
              "    .dataframe tbody tr th:only-of-type {\n",
              "        vertical-align: middle;\n",
              "    }\n",
              "\n",
              "    .dataframe tbody tr th {\n",
              "        vertical-align: top;\n",
              "    }\n",
              "\n",
              "    .dataframe thead th {\n",
              "        text-align: right;\n",
              "    }\n",
              "</style>\n",
              "<table border=\"1\" class=\"dataframe\">\n",
              "  <thead>\n",
              "    <tr style=\"text-align: right;\">\n",
              "      <th></th>\n",
              "      <th>Date</th>\n",
              "      <th>Rented Bike Count</th>\n",
              "      <th>Hour</th>\n",
              "      <th>Temperature(C)</th>\n",
              "      <th>Humidity(%)</th>\n",
              "      <th>Wind speed (m/s)</th>\n",
              "      <th>Visibility (10m)</th>\n",
              "      <th>Dew point temperature(C)</th>\n",
              "      <th>Solar Radiation (MJ/m2)</th>\n",
              "      <th>Rainfall(mm)</th>\n",
              "      <th>Snowfall (cm)</th>\n",
              "      <th>Seasons</th>\n",
              "      <th>Holiday</th>\n",
              "      <th>Functioning Day</th>\n",
              "      <th>Month</th>\n",
              "    </tr>\n",
              "  </thead>\n",
              "  <tbody>\n",
              "    <tr>\n",
              "      <th>0</th>\n",
              "      <td>2017-01-12</td>\n",
              "      <td>254</td>\n",
              "      <td>0</td>\n",
              "      <td>-5.2</td>\n",
              "      <td>37</td>\n",
              "      <td>2.2</td>\n",
              "      <td>2000</td>\n",
              "      <td>-17.6</td>\n",
              "      <td>0.0</td>\n",
              "      <td>0.0</td>\n",
              "      <td>0.0</td>\n",
              "      <td>Winter</td>\n",
              "      <td>No Holiday</td>\n",
              "      <td>Yes</td>\n",
              "      <td>1</td>\n",
              "    </tr>\n",
              "    <tr>\n",
              "      <th>1</th>\n",
              "      <td>2017-01-12</td>\n",
              "      <td>204</td>\n",
              "      <td>1</td>\n",
              "      <td>-5.5</td>\n",
              "      <td>38</td>\n",
              "      <td>0.8</td>\n",
              "      <td>2000</td>\n",
              "      <td>-17.6</td>\n",
              "      <td>0.0</td>\n",
              "      <td>0.0</td>\n",
              "      <td>0.0</td>\n",
              "      <td>Winter</td>\n",
              "      <td>No Holiday</td>\n",
              "      <td>Yes</td>\n",
              "      <td>1</td>\n",
              "    </tr>\n",
              "    <tr>\n",
              "      <th>2</th>\n",
              "      <td>2017-01-12</td>\n",
              "      <td>173</td>\n",
              "      <td>2</td>\n",
              "      <td>-6.0</td>\n",
              "      <td>39</td>\n",
              "      <td>1.0</td>\n",
              "      <td>2000</td>\n",
              "      <td>-17.7</td>\n",
              "      <td>0.0</td>\n",
              "      <td>0.0</td>\n",
              "      <td>0.0</td>\n",
              "      <td>Winter</td>\n",
              "      <td>No Holiday</td>\n",
              "      <td>Yes</td>\n",
              "      <td>1</td>\n",
              "    </tr>\n",
              "    <tr>\n",
              "      <th>3</th>\n",
              "      <td>2017-01-12</td>\n",
              "      <td>107</td>\n",
              "      <td>3</td>\n",
              "      <td>-6.2</td>\n",
              "      <td>40</td>\n",
              "      <td>0.9</td>\n",
              "      <td>2000</td>\n",
              "      <td>-17.6</td>\n",
              "      <td>0.0</td>\n",
              "      <td>0.0</td>\n",
              "      <td>0.0</td>\n",
              "      <td>Winter</td>\n",
              "      <td>No Holiday</td>\n",
              "      <td>Yes</td>\n",
              "      <td>1</td>\n",
              "    </tr>\n",
              "    <tr>\n",
              "      <th>4</th>\n",
              "      <td>2017-01-12</td>\n",
              "      <td>78</td>\n",
              "      <td>4</td>\n",
              "      <td>-6.0</td>\n",
              "      <td>36</td>\n",
              "      <td>2.3</td>\n",
              "      <td>2000</td>\n",
              "      <td>-18.6</td>\n",
              "      <td>0.0</td>\n",
              "      <td>0.0</td>\n",
              "      <td>0.0</td>\n",
              "      <td>Winter</td>\n",
              "      <td>No Holiday</td>\n",
              "      <td>Yes</td>\n",
              "      <td>1</td>\n",
              "    </tr>\n",
              "    <tr>\n",
              "      <th>...</th>\n",
              "      <td>...</td>\n",
              "      <td>...</td>\n",
              "      <td>...</td>\n",
              "      <td>...</td>\n",
              "      <td>...</td>\n",
              "      <td>...</td>\n",
              "      <td>...</td>\n",
              "      <td>...</td>\n",
              "      <td>...</td>\n",
              "      <td>...</td>\n",
              "      <td>...</td>\n",
              "      <td>...</td>\n",
              "      <td>...</td>\n",
              "      <td>...</td>\n",
              "      <td>...</td>\n",
              "    </tr>\n",
              "    <tr>\n",
              "      <th>8755</th>\n",
              "      <td>2018-11-30</td>\n",
              "      <td>1003</td>\n",
              "      <td>19</td>\n",
              "      <td>4.2</td>\n",
              "      <td>34</td>\n",
              "      <td>2.6</td>\n",
              "      <td>1894</td>\n",
              "      <td>-10.3</td>\n",
              "      <td>0.0</td>\n",
              "      <td>0.0</td>\n",
              "      <td>0.0</td>\n",
              "      <td>Autumn</td>\n",
              "      <td>No Holiday</td>\n",
              "      <td>Yes</td>\n",
              "      <td>11</td>\n",
              "    </tr>\n",
              "    <tr>\n",
              "      <th>8756</th>\n",
              "      <td>2018-11-30</td>\n",
              "      <td>764</td>\n",
              "      <td>20</td>\n",
              "      <td>3.4</td>\n",
              "      <td>37</td>\n",
              "      <td>2.3</td>\n",
              "      <td>2000</td>\n",
              "      <td>-9.9</td>\n",
              "      <td>0.0</td>\n",
              "      <td>0.0</td>\n",
              "      <td>0.0</td>\n",
              "      <td>Autumn</td>\n",
              "      <td>No Holiday</td>\n",
              "      <td>Yes</td>\n",
              "      <td>11</td>\n",
              "    </tr>\n",
              "    <tr>\n",
              "      <th>8757</th>\n",
              "      <td>2018-11-30</td>\n",
              "      <td>694</td>\n",
              "      <td>21</td>\n",
              "      <td>2.6</td>\n",
              "      <td>39</td>\n",
              "      <td>0.3</td>\n",
              "      <td>1968</td>\n",
              "      <td>-9.9</td>\n",
              "      <td>0.0</td>\n",
              "      <td>0.0</td>\n",
              "      <td>0.0</td>\n",
              "      <td>Autumn</td>\n",
              "      <td>No Holiday</td>\n",
              "      <td>Yes</td>\n",
              "      <td>11</td>\n",
              "    </tr>\n",
              "    <tr>\n",
              "      <th>8758</th>\n",
              "      <td>2018-11-30</td>\n",
              "      <td>712</td>\n",
              "      <td>22</td>\n",
              "      <td>2.1</td>\n",
              "      <td>41</td>\n",
              "      <td>1.0</td>\n",
              "      <td>1859</td>\n",
              "      <td>-9.8</td>\n",
              "      <td>0.0</td>\n",
              "      <td>0.0</td>\n",
              "      <td>0.0</td>\n",
              "      <td>Autumn</td>\n",
              "      <td>No Holiday</td>\n",
              "      <td>Yes</td>\n",
              "      <td>11</td>\n",
              "    </tr>\n",
              "    <tr>\n",
              "      <th>8759</th>\n",
              "      <td>2018-11-30</td>\n",
              "      <td>584</td>\n",
              "      <td>23</td>\n",
              "      <td>1.9</td>\n",
              "      <td>43</td>\n",
              "      <td>1.3</td>\n",
              "      <td>1909</td>\n",
              "      <td>-9.3</td>\n",
              "      <td>0.0</td>\n",
              "      <td>0.0</td>\n",
              "      <td>0.0</td>\n",
              "      <td>Autumn</td>\n",
              "      <td>No Holiday</td>\n",
              "      <td>Yes</td>\n",
              "      <td>11</td>\n",
              "    </tr>\n",
              "  </tbody>\n",
              "</table>\n",
              "<p>8760 rows × 15 columns</p>\n",
              "</div>"
            ],
            "text/plain": [
              "           Date  Rented Bike Count  Hour  ...     Holiday  Functioning Day  Month\n",
              "0    2017-01-12                254     0  ...  No Holiday              Yes      1\n",
              "1    2017-01-12                204     1  ...  No Holiday              Yes      1\n",
              "2    2017-01-12                173     2  ...  No Holiday              Yes      1\n",
              "3    2017-01-12                107     3  ...  No Holiday              Yes      1\n",
              "4    2017-01-12                 78     4  ...  No Holiday              Yes      1\n",
              "...         ...                ...   ...  ...         ...              ...    ...\n",
              "8755 2018-11-30               1003    19  ...  No Holiday              Yes     11\n",
              "8756 2018-11-30                764    20  ...  No Holiday              Yes     11\n",
              "8757 2018-11-30                694    21  ...  No Holiday              Yes     11\n",
              "8758 2018-11-30                712    22  ...  No Holiday              Yes     11\n",
              "8759 2018-11-30                584    23  ...  No Holiday              Yes     11\n",
              "\n",
              "[8760 rows x 15 columns]"
            ]
          },
          "metadata": {},
          "execution_count": 506
        }
      ]
    },
    {
      "cell_type": "code",
      "metadata": {
        "colab": {
          "base_uri": "https://localhost:8080/",
          "height": 643
        },
        "id": "CTVMfEy5aqzc",
        "outputId": "fed205ef-4a3b-465c-ce20-0f1db5f77c47"
      },
      "source": [
        "df['Year']=pd.DatetimeIndex(df['Date']).year\n",
        "df"
      ],
      "execution_count": 507,
      "outputs": [
        {
          "output_type": "execute_result",
          "data": {
            "text/html": [
              "<div>\n",
              "<style scoped>\n",
              "    .dataframe tbody tr th:only-of-type {\n",
              "        vertical-align: middle;\n",
              "    }\n",
              "\n",
              "    .dataframe tbody tr th {\n",
              "        vertical-align: top;\n",
              "    }\n",
              "\n",
              "    .dataframe thead th {\n",
              "        text-align: right;\n",
              "    }\n",
              "</style>\n",
              "<table border=\"1\" class=\"dataframe\">\n",
              "  <thead>\n",
              "    <tr style=\"text-align: right;\">\n",
              "      <th></th>\n",
              "      <th>Date</th>\n",
              "      <th>Rented Bike Count</th>\n",
              "      <th>Hour</th>\n",
              "      <th>Temperature(C)</th>\n",
              "      <th>Humidity(%)</th>\n",
              "      <th>Wind speed (m/s)</th>\n",
              "      <th>Visibility (10m)</th>\n",
              "      <th>Dew point temperature(C)</th>\n",
              "      <th>Solar Radiation (MJ/m2)</th>\n",
              "      <th>Rainfall(mm)</th>\n",
              "      <th>Snowfall (cm)</th>\n",
              "      <th>Seasons</th>\n",
              "      <th>Holiday</th>\n",
              "      <th>Functioning Day</th>\n",
              "      <th>Month</th>\n",
              "      <th>Year</th>\n",
              "    </tr>\n",
              "  </thead>\n",
              "  <tbody>\n",
              "    <tr>\n",
              "      <th>0</th>\n",
              "      <td>2017-01-12</td>\n",
              "      <td>254</td>\n",
              "      <td>0</td>\n",
              "      <td>-5.2</td>\n",
              "      <td>37</td>\n",
              "      <td>2.2</td>\n",
              "      <td>2000</td>\n",
              "      <td>-17.6</td>\n",
              "      <td>0.0</td>\n",
              "      <td>0.0</td>\n",
              "      <td>0.0</td>\n",
              "      <td>Winter</td>\n",
              "      <td>No Holiday</td>\n",
              "      <td>Yes</td>\n",
              "      <td>1</td>\n",
              "      <td>2017</td>\n",
              "    </tr>\n",
              "    <tr>\n",
              "      <th>1</th>\n",
              "      <td>2017-01-12</td>\n",
              "      <td>204</td>\n",
              "      <td>1</td>\n",
              "      <td>-5.5</td>\n",
              "      <td>38</td>\n",
              "      <td>0.8</td>\n",
              "      <td>2000</td>\n",
              "      <td>-17.6</td>\n",
              "      <td>0.0</td>\n",
              "      <td>0.0</td>\n",
              "      <td>0.0</td>\n",
              "      <td>Winter</td>\n",
              "      <td>No Holiday</td>\n",
              "      <td>Yes</td>\n",
              "      <td>1</td>\n",
              "      <td>2017</td>\n",
              "    </tr>\n",
              "    <tr>\n",
              "      <th>2</th>\n",
              "      <td>2017-01-12</td>\n",
              "      <td>173</td>\n",
              "      <td>2</td>\n",
              "      <td>-6.0</td>\n",
              "      <td>39</td>\n",
              "      <td>1.0</td>\n",
              "      <td>2000</td>\n",
              "      <td>-17.7</td>\n",
              "      <td>0.0</td>\n",
              "      <td>0.0</td>\n",
              "      <td>0.0</td>\n",
              "      <td>Winter</td>\n",
              "      <td>No Holiday</td>\n",
              "      <td>Yes</td>\n",
              "      <td>1</td>\n",
              "      <td>2017</td>\n",
              "    </tr>\n",
              "    <tr>\n",
              "      <th>3</th>\n",
              "      <td>2017-01-12</td>\n",
              "      <td>107</td>\n",
              "      <td>3</td>\n",
              "      <td>-6.2</td>\n",
              "      <td>40</td>\n",
              "      <td>0.9</td>\n",
              "      <td>2000</td>\n",
              "      <td>-17.6</td>\n",
              "      <td>0.0</td>\n",
              "      <td>0.0</td>\n",
              "      <td>0.0</td>\n",
              "      <td>Winter</td>\n",
              "      <td>No Holiday</td>\n",
              "      <td>Yes</td>\n",
              "      <td>1</td>\n",
              "      <td>2017</td>\n",
              "    </tr>\n",
              "    <tr>\n",
              "      <th>4</th>\n",
              "      <td>2017-01-12</td>\n",
              "      <td>78</td>\n",
              "      <td>4</td>\n",
              "      <td>-6.0</td>\n",
              "      <td>36</td>\n",
              "      <td>2.3</td>\n",
              "      <td>2000</td>\n",
              "      <td>-18.6</td>\n",
              "      <td>0.0</td>\n",
              "      <td>0.0</td>\n",
              "      <td>0.0</td>\n",
              "      <td>Winter</td>\n",
              "      <td>No Holiday</td>\n",
              "      <td>Yes</td>\n",
              "      <td>1</td>\n",
              "      <td>2017</td>\n",
              "    </tr>\n",
              "    <tr>\n",
              "      <th>...</th>\n",
              "      <td>...</td>\n",
              "      <td>...</td>\n",
              "      <td>...</td>\n",
              "      <td>...</td>\n",
              "      <td>...</td>\n",
              "      <td>...</td>\n",
              "      <td>...</td>\n",
              "      <td>...</td>\n",
              "      <td>...</td>\n",
              "      <td>...</td>\n",
              "      <td>...</td>\n",
              "      <td>...</td>\n",
              "      <td>...</td>\n",
              "      <td>...</td>\n",
              "      <td>...</td>\n",
              "      <td>...</td>\n",
              "    </tr>\n",
              "    <tr>\n",
              "      <th>8755</th>\n",
              "      <td>2018-11-30</td>\n",
              "      <td>1003</td>\n",
              "      <td>19</td>\n",
              "      <td>4.2</td>\n",
              "      <td>34</td>\n",
              "      <td>2.6</td>\n",
              "      <td>1894</td>\n",
              "      <td>-10.3</td>\n",
              "      <td>0.0</td>\n",
              "      <td>0.0</td>\n",
              "      <td>0.0</td>\n",
              "      <td>Autumn</td>\n",
              "      <td>No Holiday</td>\n",
              "      <td>Yes</td>\n",
              "      <td>11</td>\n",
              "      <td>2018</td>\n",
              "    </tr>\n",
              "    <tr>\n",
              "      <th>8756</th>\n",
              "      <td>2018-11-30</td>\n",
              "      <td>764</td>\n",
              "      <td>20</td>\n",
              "      <td>3.4</td>\n",
              "      <td>37</td>\n",
              "      <td>2.3</td>\n",
              "      <td>2000</td>\n",
              "      <td>-9.9</td>\n",
              "      <td>0.0</td>\n",
              "      <td>0.0</td>\n",
              "      <td>0.0</td>\n",
              "      <td>Autumn</td>\n",
              "      <td>No Holiday</td>\n",
              "      <td>Yes</td>\n",
              "      <td>11</td>\n",
              "      <td>2018</td>\n",
              "    </tr>\n",
              "    <tr>\n",
              "      <th>8757</th>\n",
              "      <td>2018-11-30</td>\n",
              "      <td>694</td>\n",
              "      <td>21</td>\n",
              "      <td>2.6</td>\n",
              "      <td>39</td>\n",
              "      <td>0.3</td>\n",
              "      <td>1968</td>\n",
              "      <td>-9.9</td>\n",
              "      <td>0.0</td>\n",
              "      <td>0.0</td>\n",
              "      <td>0.0</td>\n",
              "      <td>Autumn</td>\n",
              "      <td>No Holiday</td>\n",
              "      <td>Yes</td>\n",
              "      <td>11</td>\n",
              "      <td>2018</td>\n",
              "    </tr>\n",
              "    <tr>\n",
              "      <th>8758</th>\n",
              "      <td>2018-11-30</td>\n",
              "      <td>712</td>\n",
              "      <td>22</td>\n",
              "      <td>2.1</td>\n",
              "      <td>41</td>\n",
              "      <td>1.0</td>\n",
              "      <td>1859</td>\n",
              "      <td>-9.8</td>\n",
              "      <td>0.0</td>\n",
              "      <td>0.0</td>\n",
              "      <td>0.0</td>\n",
              "      <td>Autumn</td>\n",
              "      <td>No Holiday</td>\n",
              "      <td>Yes</td>\n",
              "      <td>11</td>\n",
              "      <td>2018</td>\n",
              "    </tr>\n",
              "    <tr>\n",
              "      <th>8759</th>\n",
              "      <td>2018-11-30</td>\n",
              "      <td>584</td>\n",
              "      <td>23</td>\n",
              "      <td>1.9</td>\n",
              "      <td>43</td>\n",
              "      <td>1.3</td>\n",
              "      <td>1909</td>\n",
              "      <td>-9.3</td>\n",
              "      <td>0.0</td>\n",
              "      <td>0.0</td>\n",
              "      <td>0.0</td>\n",
              "      <td>Autumn</td>\n",
              "      <td>No Holiday</td>\n",
              "      <td>Yes</td>\n",
              "      <td>11</td>\n",
              "      <td>2018</td>\n",
              "    </tr>\n",
              "  </tbody>\n",
              "</table>\n",
              "<p>8760 rows × 16 columns</p>\n",
              "</div>"
            ],
            "text/plain": [
              "           Date  Rented Bike Count  Hour  ...  Functioning Day  Month  Year\n",
              "0    2017-01-12                254     0  ...              Yes      1  2017\n",
              "1    2017-01-12                204     1  ...              Yes      1  2017\n",
              "2    2017-01-12                173     2  ...              Yes      1  2017\n",
              "3    2017-01-12                107     3  ...              Yes      1  2017\n",
              "4    2017-01-12                 78     4  ...              Yes      1  2017\n",
              "...         ...                ...   ...  ...              ...    ...   ...\n",
              "8755 2018-11-30               1003    19  ...              Yes     11  2018\n",
              "8756 2018-11-30                764    20  ...              Yes     11  2018\n",
              "8757 2018-11-30                694    21  ...              Yes     11  2018\n",
              "8758 2018-11-30                712    22  ...              Yes     11  2018\n",
              "8759 2018-11-30                584    23  ...              Yes     11  2018\n",
              "\n",
              "[8760 rows x 16 columns]"
            ]
          },
          "metadata": {},
          "execution_count": 507
        }
      ]
    },
    {
      "cell_type": "code",
      "metadata": {
        "colab": {
          "base_uri": "https://localhost:8080/",
          "height": 643
        },
        "id": "5Yb6CbV4a1I5",
        "outputId": "23c6435a-8cc3-4e02-d845-eccd3c7a5908"
      },
      "source": [
        "df['tday']=pd.DatetimeIndex(df['Date']).day\n",
        "df"
      ],
      "execution_count": 508,
      "outputs": [
        {
          "output_type": "execute_result",
          "data": {
            "text/html": [
              "<div>\n",
              "<style scoped>\n",
              "    .dataframe tbody tr th:only-of-type {\n",
              "        vertical-align: middle;\n",
              "    }\n",
              "\n",
              "    .dataframe tbody tr th {\n",
              "        vertical-align: top;\n",
              "    }\n",
              "\n",
              "    .dataframe thead th {\n",
              "        text-align: right;\n",
              "    }\n",
              "</style>\n",
              "<table border=\"1\" class=\"dataframe\">\n",
              "  <thead>\n",
              "    <tr style=\"text-align: right;\">\n",
              "      <th></th>\n",
              "      <th>Date</th>\n",
              "      <th>Rented Bike Count</th>\n",
              "      <th>Hour</th>\n",
              "      <th>Temperature(C)</th>\n",
              "      <th>Humidity(%)</th>\n",
              "      <th>Wind speed (m/s)</th>\n",
              "      <th>Visibility (10m)</th>\n",
              "      <th>Dew point temperature(C)</th>\n",
              "      <th>Solar Radiation (MJ/m2)</th>\n",
              "      <th>Rainfall(mm)</th>\n",
              "      <th>Snowfall (cm)</th>\n",
              "      <th>Seasons</th>\n",
              "      <th>Holiday</th>\n",
              "      <th>Functioning Day</th>\n",
              "      <th>Month</th>\n",
              "      <th>Year</th>\n",
              "      <th>tday</th>\n",
              "    </tr>\n",
              "  </thead>\n",
              "  <tbody>\n",
              "    <tr>\n",
              "      <th>0</th>\n",
              "      <td>2017-01-12</td>\n",
              "      <td>254</td>\n",
              "      <td>0</td>\n",
              "      <td>-5.2</td>\n",
              "      <td>37</td>\n",
              "      <td>2.2</td>\n",
              "      <td>2000</td>\n",
              "      <td>-17.6</td>\n",
              "      <td>0.0</td>\n",
              "      <td>0.0</td>\n",
              "      <td>0.0</td>\n",
              "      <td>Winter</td>\n",
              "      <td>No Holiday</td>\n",
              "      <td>Yes</td>\n",
              "      <td>1</td>\n",
              "      <td>2017</td>\n",
              "      <td>12</td>\n",
              "    </tr>\n",
              "    <tr>\n",
              "      <th>1</th>\n",
              "      <td>2017-01-12</td>\n",
              "      <td>204</td>\n",
              "      <td>1</td>\n",
              "      <td>-5.5</td>\n",
              "      <td>38</td>\n",
              "      <td>0.8</td>\n",
              "      <td>2000</td>\n",
              "      <td>-17.6</td>\n",
              "      <td>0.0</td>\n",
              "      <td>0.0</td>\n",
              "      <td>0.0</td>\n",
              "      <td>Winter</td>\n",
              "      <td>No Holiday</td>\n",
              "      <td>Yes</td>\n",
              "      <td>1</td>\n",
              "      <td>2017</td>\n",
              "      <td>12</td>\n",
              "    </tr>\n",
              "    <tr>\n",
              "      <th>2</th>\n",
              "      <td>2017-01-12</td>\n",
              "      <td>173</td>\n",
              "      <td>2</td>\n",
              "      <td>-6.0</td>\n",
              "      <td>39</td>\n",
              "      <td>1.0</td>\n",
              "      <td>2000</td>\n",
              "      <td>-17.7</td>\n",
              "      <td>0.0</td>\n",
              "      <td>0.0</td>\n",
              "      <td>0.0</td>\n",
              "      <td>Winter</td>\n",
              "      <td>No Holiday</td>\n",
              "      <td>Yes</td>\n",
              "      <td>1</td>\n",
              "      <td>2017</td>\n",
              "      <td>12</td>\n",
              "    </tr>\n",
              "    <tr>\n",
              "      <th>3</th>\n",
              "      <td>2017-01-12</td>\n",
              "      <td>107</td>\n",
              "      <td>3</td>\n",
              "      <td>-6.2</td>\n",
              "      <td>40</td>\n",
              "      <td>0.9</td>\n",
              "      <td>2000</td>\n",
              "      <td>-17.6</td>\n",
              "      <td>0.0</td>\n",
              "      <td>0.0</td>\n",
              "      <td>0.0</td>\n",
              "      <td>Winter</td>\n",
              "      <td>No Holiday</td>\n",
              "      <td>Yes</td>\n",
              "      <td>1</td>\n",
              "      <td>2017</td>\n",
              "      <td>12</td>\n",
              "    </tr>\n",
              "    <tr>\n",
              "      <th>4</th>\n",
              "      <td>2017-01-12</td>\n",
              "      <td>78</td>\n",
              "      <td>4</td>\n",
              "      <td>-6.0</td>\n",
              "      <td>36</td>\n",
              "      <td>2.3</td>\n",
              "      <td>2000</td>\n",
              "      <td>-18.6</td>\n",
              "      <td>0.0</td>\n",
              "      <td>0.0</td>\n",
              "      <td>0.0</td>\n",
              "      <td>Winter</td>\n",
              "      <td>No Holiday</td>\n",
              "      <td>Yes</td>\n",
              "      <td>1</td>\n",
              "      <td>2017</td>\n",
              "      <td>12</td>\n",
              "    </tr>\n",
              "    <tr>\n",
              "      <th>...</th>\n",
              "      <td>...</td>\n",
              "      <td>...</td>\n",
              "      <td>...</td>\n",
              "      <td>...</td>\n",
              "      <td>...</td>\n",
              "      <td>...</td>\n",
              "      <td>...</td>\n",
              "      <td>...</td>\n",
              "      <td>...</td>\n",
              "      <td>...</td>\n",
              "      <td>...</td>\n",
              "      <td>...</td>\n",
              "      <td>...</td>\n",
              "      <td>...</td>\n",
              "      <td>...</td>\n",
              "      <td>...</td>\n",
              "      <td>...</td>\n",
              "    </tr>\n",
              "    <tr>\n",
              "      <th>8755</th>\n",
              "      <td>2018-11-30</td>\n",
              "      <td>1003</td>\n",
              "      <td>19</td>\n",
              "      <td>4.2</td>\n",
              "      <td>34</td>\n",
              "      <td>2.6</td>\n",
              "      <td>1894</td>\n",
              "      <td>-10.3</td>\n",
              "      <td>0.0</td>\n",
              "      <td>0.0</td>\n",
              "      <td>0.0</td>\n",
              "      <td>Autumn</td>\n",
              "      <td>No Holiday</td>\n",
              "      <td>Yes</td>\n",
              "      <td>11</td>\n",
              "      <td>2018</td>\n",
              "      <td>30</td>\n",
              "    </tr>\n",
              "    <tr>\n",
              "      <th>8756</th>\n",
              "      <td>2018-11-30</td>\n",
              "      <td>764</td>\n",
              "      <td>20</td>\n",
              "      <td>3.4</td>\n",
              "      <td>37</td>\n",
              "      <td>2.3</td>\n",
              "      <td>2000</td>\n",
              "      <td>-9.9</td>\n",
              "      <td>0.0</td>\n",
              "      <td>0.0</td>\n",
              "      <td>0.0</td>\n",
              "      <td>Autumn</td>\n",
              "      <td>No Holiday</td>\n",
              "      <td>Yes</td>\n",
              "      <td>11</td>\n",
              "      <td>2018</td>\n",
              "      <td>30</td>\n",
              "    </tr>\n",
              "    <tr>\n",
              "      <th>8757</th>\n",
              "      <td>2018-11-30</td>\n",
              "      <td>694</td>\n",
              "      <td>21</td>\n",
              "      <td>2.6</td>\n",
              "      <td>39</td>\n",
              "      <td>0.3</td>\n",
              "      <td>1968</td>\n",
              "      <td>-9.9</td>\n",
              "      <td>0.0</td>\n",
              "      <td>0.0</td>\n",
              "      <td>0.0</td>\n",
              "      <td>Autumn</td>\n",
              "      <td>No Holiday</td>\n",
              "      <td>Yes</td>\n",
              "      <td>11</td>\n",
              "      <td>2018</td>\n",
              "      <td>30</td>\n",
              "    </tr>\n",
              "    <tr>\n",
              "      <th>8758</th>\n",
              "      <td>2018-11-30</td>\n",
              "      <td>712</td>\n",
              "      <td>22</td>\n",
              "      <td>2.1</td>\n",
              "      <td>41</td>\n",
              "      <td>1.0</td>\n",
              "      <td>1859</td>\n",
              "      <td>-9.8</td>\n",
              "      <td>0.0</td>\n",
              "      <td>0.0</td>\n",
              "      <td>0.0</td>\n",
              "      <td>Autumn</td>\n",
              "      <td>No Holiday</td>\n",
              "      <td>Yes</td>\n",
              "      <td>11</td>\n",
              "      <td>2018</td>\n",
              "      <td>30</td>\n",
              "    </tr>\n",
              "    <tr>\n",
              "      <th>8759</th>\n",
              "      <td>2018-11-30</td>\n",
              "      <td>584</td>\n",
              "      <td>23</td>\n",
              "      <td>1.9</td>\n",
              "      <td>43</td>\n",
              "      <td>1.3</td>\n",
              "      <td>1909</td>\n",
              "      <td>-9.3</td>\n",
              "      <td>0.0</td>\n",
              "      <td>0.0</td>\n",
              "      <td>0.0</td>\n",
              "      <td>Autumn</td>\n",
              "      <td>No Holiday</td>\n",
              "      <td>Yes</td>\n",
              "      <td>11</td>\n",
              "      <td>2018</td>\n",
              "      <td>30</td>\n",
              "    </tr>\n",
              "  </tbody>\n",
              "</table>\n",
              "<p>8760 rows × 17 columns</p>\n",
              "</div>"
            ],
            "text/plain": [
              "           Date  Rented Bike Count  Hour  ...  Month  Year  tday\n",
              "0    2017-01-12                254     0  ...      1  2017    12\n",
              "1    2017-01-12                204     1  ...      1  2017    12\n",
              "2    2017-01-12                173     2  ...      1  2017    12\n",
              "3    2017-01-12                107     3  ...      1  2017    12\n",
              "4    2017-01-12                 78     4  ...      1  2017    12\n",
              "...         ...                ...   ...  ...    ...   ...   ...\n",
              "8755 2018-11-30               1003    19  ...     11  2018    30\n",
              "8756 2018-11-30                764    20  ...     11  2018    30\n",
              "8757 2018-11-30                694    21  ...     11  2018    30\n",
              "8758 2018-11-30                712    22  ...     11  2018    30\n",
              "8759 2018-11-30                584    23  ...     11  2018    30\n",
              "\n",
              "[8760 rows x 17 columns]"
            ]
          },
          "metadata": {},
          "execution_count": 508
        }
      ]
    },
    {
      "cell_type": "code",
      "metadata": {
        "colab": {
          "base_uri": "https://localhost:8080/",
          "height": 429
        },
        "id": "TIYjf6P29Lot",
        "outputId": "3b391681-9d7c-491c-e6b0-2298e3ce1e09"
      },
      "source": [
        "# create a list of all categorical variables\n",
        "# initiate an empty list to store the categorical variables\n",
        "categorical=[]\n",
        "\n",
        "# use for loop to check the data type of each variable\n",
        "for column in df:\n",
        "\n",
        "    # use 'if' statement with condition to check the categorical type \n",
        "    if is_string_dtype(df[column]):\n",
        "        \n",
        "        # append the variables with 'categoric' data type in the list 'categorical'\n",
        "        categorical.append(column)\n",
        "\n",
        "# plot the count plot for each categorical variable \n",
        "# set the number of rows in the subplot using the parameter, 'nrows'\n",
        "# set the number of columns in the subplot using the parameter, 'ncols'\n",
        "# 'figsize' sets the figure size\n",
        "fig, ax = plt.subplots(1, 4, figsize = (15,10))\n",
        "\n",
        "# use for loop to plot the count plot for each variable\n",
        "for variable, subplot in zip(categorical, ax.flatten()):\n",
        "    \n",
        "    # use countplot() to plot the graph\n",
        "    # pass the axes for the plot to the parameter, 'ax'\n",
        "    sns.countplot(df[variable], ax = subplot)\n",
        "    \n",
        "# display the plot\n",
        "plt.show()"
      ],
      "execution_count": 509,
      "outputs": [
        {
          "output_type": "display_data",
          "data": {
            "image/png": "[encoded data removed]",
            "text/plain": [
              "<Figure size 1080x720 with 4 Axes>"
            ]
          },
          "metadata": {
            "needs_background": "light"
          }
        }
      ]
    },
    {
      "cell_type": "markdown",
      "metadata": {
        "id": "6oGPrqL3RI0R"
      },
      "source": [
        "## Rented Bike Count  "
      ]
    },
    {
      "cell_type": "markdown",
      "metadata": {
        "id": "REuT4Di4n5cO"
      },
      "source": [
        "##Data outliers and missing values:"
      ]
    },
    {
      "cell_type": "code",
      "metadata": {
        "colab": {
          "base_uri": "https://localhost:8080/"
        },
        "id": "ggI3Vd2Ln96x",
        "outputId": "b33ab0be-0cf2-406c-c62a-e87da19f44e7"
      },
      "source": [
        "print(\"Missing Values:\")\n",
        "df.isnull().sum()"
      ],
      "execution_count": 510,
      "outputs": [
        {
          "output_type": "stream",
          "name": "stdout",
          "text": [
            "Missing Values:\n"
          ]
        },
        {
          "output_type": "execute_result",
          "data": {
            "text/plain": [
              "Date                        0\n",
              "Rented Bike Count           0\n",
              "Hour                        0\n",
              "Temperature(C)              0\n",
              "Humidity(%)                 0\n",
              "Wind speed (m/s)            0\n",
              "Visibility (10m)            0\n",
              "Dew point temperature(C)    0\n",
              "Solar Radiation (MJ/m2)     0\n",
              "Rainfall(mm)                0\n",
              "Snowfall (cm)               0\n",
              "Seasons                     0\n",
              "Holiday                     0\n",
              "Functioning Day             0\n",
              "Month                       0\n",
              "Year                        0\n",
              "tday                        0\n",
              "dtype: int64"
            ]
          },
          "metadata": {},
          "execution_count": 510
        }
      ]
    },
    {
      "cell_type": "markdown",
      "metadata": {
        "id": "xi9AP9FRoIVU"
      },
      "source": [
        "###Check for outliers"
      ]
    },
    {
      "cell_type": "code",
      "metadata": {
        "colab": {
          "base_uri": "https://localhost:8080/",
          "height": 297
        },
        "id": "pLQnIgWZkE_3",
        "outputId": "b20bdd3b-2049-44b9-a0fb-faf53e0baa4a"
      },
      "source": [
        "# plot a boxplot of target variable to detect the outliers\n",
        "sns.boxplot(df['Rented Bike Count'], color='coral')\n",
        "\n",
        "# set plot label\n",
        "# set text size using 'fontsize'\n",
        "plt.title('Distribution of Target Variable (Rented Bike Count)', fontsize = 15)\n",
        "\n",
        "# display the plot\n",
        "plt.show()"
      ],
      "execution_count": 511,
      "outputs": [
        {
          "output_type": "display_data",
          "data": {
            "image/png": "[encoded data removed]",
            "text/plain": [
              "<Figure size 432x288 with 1 Axes>"
            ]
          },
          "metadata": {
            "needs_background": "light"
          }
        }
      ]
    },
    {
      "cell_type": "code",
      "metadata": {
        "colab": {
          "base_uri": "https://localhost:8080/"
        },
        "id": "hDBKjT2VemLG",
        "outputId": "87e5af6b-e99d-4f19-fdcf-4a552fd59731"
      },
      "source": [
        "Q1 = np.percentile(df['Rented Bike Count'], 25, interpolation = 'midpoint')  \n",
        "Q2 = np.percentile(df['Rented Bike Count'], 50, interpolation = 'midpoint')  \n",
        "Q3 = np.percentile(df['Rented Bike Count'], 75, interpolation = 'midpoint')   \n",
        "print('Q1 25 percentile of the given data is, ', Q1) \n",
        "print('Q1 50 percentile of the given data is, ', Q2) \n",
        "print('Q1 75 percentile of the given data is, ', Q3)   \n",
        "IQR = Q3 - Q1  \n",
        "print('Interquartile range is', IQR) # 3.0"
      ],
      "execution_count": 512,
      "outputs": [
        {
          "output_type": "stream",
          "name": "stdout",
          "text": [
            "Q1 25 percentile of the given data is,  191.0\n",
            "Q1 50 percentile of the given data is,  504.5\n",
            "Q1 75 percentile of the given data is,  1065.5\n",
            "Interquartile range is 874.5\n"
          ]
        }
      ]
    },
    {
      "cell_type": "code",
      "metadata": {
        "colab": {
          "base_uri": "https://localhost:8080/"
        },
        "id": "L071zuqlkYVu",
        "outputId": "5cf0b977-cd88-4bc0-f5e6-e83ad6c13acf"
      },
      "source": [
        "low_lim = Q1 - 1.5 * IQR \n",
        "up_lim = Q3 + 1.5 * IQR # 340000\n",
        "print('low_limit is', low_lim) \n",
        "print('up_limit is', up_lim) "
      ],
      "execution_count": 513,
      "outputs": [
        {
          "output_type": "stream",
          "name": "stdout",
          "text": [
            "low_limit is -1120.75\n",
            "up_limit is 2377.25\n"
          ]
        }
      ]
    },
    {
      "cell_type": "code",
      "metadata": {
        "id": "BtSA61_fntRu"
      },
      "source": [
        "df.rename(columns = {'Rented Bike Count':'RBC'}, inplace = True)"
      ],
      "execution_count": 514,
      "outputs": []
    },
    {
      "cell_type": "code",
      "metadata": {
        "id": "H4GXSRI7Qxe-"
      },
      "source": [
        "df1 = df[df.RBC< 2377.25]\n"
      ],
      "execution_count": 515,
      "outputs": []
    },
    {
      "cell_type": "code",
      "metadata": {
        "colab": {
          "base_uri": "https://localhost:8080/"
        },
        "id": "nPLqJY8XoL5U",
        "outputId": "fca5102a-0b15-4e88-a058-583564d7f870"
      },
      "source": [
        "df1.info()"
      ],
      "execution_count": 516,
      "outputs": [
        {
          "output_type": "stream",
          "name": "stdout",
          "text": [
            "<class 'pandas.core.frame.DataFrame'>\n",
            "Int64Index: 8603 entries, 0 to 8759\n",
            "Data columns (total 17 columns):\n",
            " #   Column                    Non-Null Count  Dtype         \n",
            "---  ------                    --------------  -----         \n",
            " 0   Date                      8603 non-null   datetime64[ns]\n",
            " 1   RBC                       8603 non-null   int64         \n",
            " 2   Hour                      8603 non-null   int64         \n",
            " 3   Temperature(C)            8603 non-null   float64       \n",
            " 4   Humidity(%)               8603 non-null   int64         \n",
            " 5   Wind speed (m/s)          8603 non-null   float64       \n",
            " 6   Visibility (10m)          8603 non-null   int64         \n",
            " 7   Dew point temperature(C)  8603 non-null   float64       \n",
            " 8   Solar Radiation (MJ/m2)   8603 non-null   float64       \n",
            " 9   Rainfall(mm)              8603 non-null   float64       \n",
            " 10  Snowfall (cm)             8603 non-null   float64       \n",
            " 11  Seasons                   8603 non-null   object        \n",
            " 12  Holiday                   8603 non-null   object        \n",
            " 13  Functioning Day           8603 non-null   object        \n",
            " 14  Month                     8603 non-null   int64         \n",
            " 15  Year                      8603 non-null   int64         \n",
            " 16  tday                      8603 non-null   int64         \n",
            "dtypes: datetime64[ns](1), float64(6), int64(7), object(3)\n",
            "memory usage: 1.2+ MB\n"
          ]
        }
      ]
    },
    {
      "cell_type": "code",
      "metadata": {
        "colab": {
          "base_uri": "https://localhost:8080/",
          "height": 296
        },
        "id": "n4HKRoYRfz2y",
        "outputId": "e2621c16-0864-47f8-f731-83ff5fea272a"
      },
      "source": [
        "import seaborn as sns\n",
        "sns.boxplot(df1['RBC'])"
      ],
      "execution_count": 517,
      "outputs": [
        {
          "output_type": "execute_result",
          "data": {
            "text/plain": [
              "<matplotlib.axes._subplots.AxesSubplot at 0x7f624f9d9190>"
            ]
          },
          "metadata": {},
          "execution_count": 517
        },
        {
          "output_type": "display_data",
          "data": {
            "image/png": "[encoded data removed]",
            "text/plain": [
              "<Figure size 432x288 with 1 Axes>"
            ]
          },
          "metadata": {
            "needs_background": "light"
          }
        }
      ]
    },
    {
      "cell_type": "code",
      "metadata": {
        "colab": {
          "base_uri": "https://localhost:8080/",
          "height": 296
        },
        "id": "fm9u3bbbfZa_",
        "outputId": "7aff5699-f46a-4f5b-9251-19a28cbfcb31"
      },
      "source": [
        "sns.boxplot(df['Hour'])"
      ],
      "execution_count": 518,
      "outputs": [
        {
          "output_type": "execute_result",
          "data": {
            "text/plain": [
              "<matplotlib.axes._subplots.AxesSubplot at 0x7f624f94dbd0>"
            ]
          },
          "metadata": {},
          "execution_count": 518
        },
        {
          "output_type": "display_data",
          "data": {
            "image/png": "[encoded data removed]",
            "text/plain": [
              "<Figure size 432x288 with 1 Axes>"
            ]
          },
          "metadata": {
            "needs_background": "light"
          }
        }
      ]
    },
    {
      "cell_type": "markdown",
      "metadata": {
        "id": "9yz2gY6cRe1W"
      },
      "source": [
        ""
      ]
    },
    {
      "cell_type": "code",
      "metadata": {
        "colab": {
          "base_uri": "https://localhost:8080/",
          "height": 296
        },
        "id": "IY3dNf6bRfvP",
        "outputId": "543025e9-7393-42cc-a0c7-bb9aff423f6e"
      },
      "source": [
        "sns.boxplot(df['Temperature(C)'])"
      ],
      "execution_count": 519,
      "outputs": [
        {
          "output_type": "execute_result",
          "data": {
            "text/plain": [
              "<matplotlib.axes._subplots.AxesSubplot at 0x7f624f917e10>"
            ]
          },
          "metadata": {},
          "execution_count": 519
        },
        {
          "output_type": "display_data",
          "data": {
            "image/png": "[encoded data removed]",
            "text/plain": [
              "<Figure size 432x288 with 1 Axes>"
            ]
          },
          "metadata": {
            "needs_background": "light"
          }
        }
      ]
    },
    {
      "cell_type": "code",
      "metadata": {
        "colab": {
          "base_uri": "https://localhost:8080/",
          "height": 296
        },
        "id": "OBzotDjrRwUH",
        "outputId": "cedf5f69-8c18-440c-b442-eea9560460fe"
      },
      "source": [
        "sns.boxplot(df['Humidity(%)'])"
      ],
      "execution_count": 520,
      "outputs": [
        {
          "output_type": "execute_result",
          "data": {
            "text/plain": [
              "<matplotlib.axes._subplots.AxesSubplot at 0x7f624ff91bd0>"
            ]
          },
          "metadata": {},
          "execution_count": 520
        },
        {
          "output_type": "display_data",
          "data": {
            "image/png": "[encoded data removed]",
            "text/plain": [
              "<Figure size 432x288 with 1 Axes>"
            ]
          },
          "metadata": {
            "needs_background": "light"
          }
        }
      ]
    },
    {
      "cell_type": "code",
      "metadata": {
        "colab": {
          "base_uri": "https://localhost:8080/",
          "height": 296
        },
        "id": "oGpqXM9qR2dc",
        "outputId": "451e9fe5-732c-4e55-f437-47d3252376e9"
      },
      "source": [
        "sns.boxplot(df['Temperature(C)'])"
      ],
      "execution_count": 521,
      "outputs": [
        {
          "output_type": "execute_result",
          "data": {
            "text/plain": [
              "<matplotlib.axes._subplots.AxesSubplot at 0x7f625061e6d0>"
            ]
          },
          "metadata": {},
          "execution_count": 521
        },
        {
          "output_type": "display_data",
          "data": {
            "image/png": "[encoded data removed]",
            "text/plain": [
              "<Figure size 432x288 with 1 Axes>"
            ]
          },
          "metadata": {
            "needs_background": "light"
          }
        }
      ]
    },
    {
      "cell_type": "code",
      "metadata": {
        "colab": {
          "base_uri": "https://localhost:8080/",
          "height": 296
        },
        "id": "lTE0QnVXR2mi",
        "outputId": "e42ad4f3-c113-4820-d31b-fb1253d1079a"
      },
      "source": [
        "sns.boxplot(df['Wind speed (m/s)'])"
      ],
      "execution_count": 522,
      "outputs": [
        {
          "output_type": "execute_result",
          "data": {
            "text/plain": [
              "<matplotlib.axes._subplots.AxesSubplot at 0x7f624fcfebd0>"
            ]
          },
          "metadata": {},
          "execution_count": 522
        },
        {
          "output_type": "display_data",
          "data": {
            "image/png": "[encoded data removed]",
            "text/plain": [
              "<Figure size 432x288 with 1 Axes>"
            ]
          },
          "metadata": {
            "needs_background": "light"
          }
        }
      ]
    },
    {
      "cell_type": "code",
      "metadata": {
        "colab": {
          "base_uri": "https://localhost:8080/"
        },
        "id": "QycN7lT-S7eL",
        "outputId": "d481713b-f5ef-46ca-d325-a911947e1a40"
      },
      "source": [
        "Q1 = np.percentile(df['Wind speed (m/s)'], 25, interpolation = 'midpoint')  \n",
        "Q2 = np.percentile(df['Wind speed (m/s)'], 50, interpolation = 'midpoint')  \n",
        "Q3 = np.percentile(df['Wind speed (m/s)'], 75, interpolation = 'midpoint')   \n",
        "print('Q1 25 percentile of the given data is, ', Q1) \n",
        "print('Q1 50 percentile of the given data is, ', Q2) \n",
        "print('Q1 75 percentile of the given data is, ', Q3)   \n",
        "IQR = Q3 - Q1  \n",
        "print('Interquartile range is', IQR)"
      ],
      "execution_count": 523,
      "outputs": [
        {
          "output_type": "stream",
          "name": "stdout",
          "text": [
            "Q1 25 percentile of the given data is,  0.9\n",
            "Q1 50 percentile of the given data is,  1.5\n",
            "Q1 75 percentile of the given data is,  2.3\n",
            "Interquartile range is 1.4\n"
          ]
        }
      ]
    },
    {
      "cell_type": "code",
      "metadata": {
        "colab": {
          "base_uri": "https://localhost:8080/"
        },
        "id": "D9UeE-pJTOT_",
        "outputId": "574ed10b-efcc-412c-a356-dc23283d978f"
      },
      "source": [
        "low_lim = Q1 - 1.5 * IQR \n",
        "up_lim = Q3 + 1.5 * IQR \n",
        "print('low_limit is', low_lim) \n",
        "print('up_limit is', up_lim) "
      ],
      "execution_count": 524,
      "outputs": [
        {
          "output_type": "stream",
          "name": "stdout",
          "text": [
            "low_limit is -1.1999999999999997\n",
            "up_limit is 4.3999999999999995\n"
          ]
        }
      ]
    },
    {
      "cell_type": "code",
      "metadata": {
        "id": "st4PbE5ETUP6"
      },
      "source": [
        ""
      ],
      "execution_count": 524,
      "outputs": []
    },
    {
      "cell_type": "code",
      "metadata": {
        "colab": {
          "base_uri": "https://localhost:8080/"
        },
        "id": "oPOu-imhUDru",
        "outputId": "3503ae3b-21ae-48cc-a0db-c03f8dbf0ea1"
      },
      "source": [
        "df.info()"
      ],
      "execution_count": 525,
      "outputs": [
        {
          "output_type": "stream",
          "name": "stdout",
          "text": [
            "<class 'pandas.core.frame.DataFrame'>\n",
            "RangeIndex: 8760 entries, 0 to 8759\n",
            "Data columns (total 17 columns):\n",
            " #   Column                    Non-Null Count  Dtype         \n",
            "---  ------                    --------------  -----         \n",
            " 0   Date                      8760 non-null   datetime64[ns]\n",
            " 1   RBC                       8760 non-null   int64         \n",
            " 2   Hour                      8760 non-null   int64         \n",
            " 3   Temperature(C)            8760 non-null   float64       \n",
            " 4   Humidity(%)               8760 non-null   int64         \n",
            " 5   Wind speed (m/s)          8760 non-null   float64       \n",
            " 6   Visibility (10m)          8760 non-null   int64         \n",
            " 7   Dew point temperature(C)  8760 non-null   float64       \n",
            " 8   Solar Radiation (MJ/m2)   8760 non-null   float64       \n",
            " 9   Rainfall(mm)              8760 non-null   float64       \n",
            " 10  Snowfall (cm)             8760 non-null   float64       \n",
            " 11  Seasons                   8760 non-null   object        \n",
            " 12  Holiday                   8760 non-null   object        \n",
            " 13  Functioning Day           8760 non-null   object        \n",
            " 14  Month                     8760 non-null   int64         \n",
            " 15  Year                      8760 non-null   int64         \n",
            " 16  tday                      8760 non-null   int64         \n",
            "dtypes: datetime64[ns](1), float64(6), int64(7), object(3)\n",
            "memory usage: 1.1+ MB\n"
          ]
        }
      ]
    },
    {
      "cell_type": "code",
      "metadata": {
        "id": "G7P4qU7HjAWN"
      },
      "source": [
        "df.rename(columns = {'Wind speed (m/s)':'WS'}, inplace = True)"
      ],
      "execution_count": 526,
      "outputs": []
    },
    {
      "cell_type": "code",
      "metadata": {
        "id": "_miimr6MTlk6"
      },
      "source": [
        "df1 = df[df.WS< 4.399]"
      ],
      "execution_count": 527,
      "outputs": []
    },
    {
      "cell_type": "code",
      "metadata": {
        "colab": {
          "base_uri": "https://localhost:8080/"
        },
        "id": "oMxKTjlhUdqK",
        "outputId": "6cff7ae9-54b9-4e15-cbeb-75434b5ad64d"
      },
      "source": [
        "df1.info()"
      ],
      "execution_count": 528,
      "outputs": [
        {
          "output_type": "stream",
          "name": "stdout",
          "text": [
            "<class 'pandas.core.frame.DataFrame'>\n",
            "Int64Index: 8599 entries, 0 to 8759\n",
            "Data columns (total 17 columns):\n",
            " #   Column                    Non-Null Count  Dtype         \n",
            "---  ------                    --------------  -----         \n",
            " 0   Date                      8599 non-null   datetime64[ns]\n",
            " 1   RBC                       8599 non-null   int64         \n",
            " 2   Hour                      8599 non-null   int64         \n",
            " 3   Temperature(C)            8599 non-null   float64       \n",
            " 4   Humidity(%)               8599 non-null   int64         \n",
            " 5   WS                        8599 non-null   float64       \n",
            " 6   Visibility (10m)          8599 non-null   int64         \n",
            " 7   Dew point temperature(C)  8599 non-null   float64       \n",
            " 8   Solar Radiation (MJ/m2)   8599 non-null   float64       \n",
            " 9   Rainfall(mm)              8599 non-null   float64       \n",
            " 10  Snowfall (cm)             8599 non-null   float64       \n",
            " 11  Seasons                   8599 non-null   object        \n",
            " 12  Holiday                   8599 non-null   object        \n",
            " 13  Functioning Day           8599 non-null   object        \n",
            " 14  Month                     8599 non-null   int64         \n",
            " 15  Year                      8599 non-null   int64         \n",
            " 16  tday                      8599 non-null   int64         \n",
            "dtypes: datetime64[ns](1), float64(6), int64(7), object(3)\n",
            "memory usage: 1.2+ MB\n"
          ]
        }
      ]
    },
    {
      "cell_type": "code",
      "metadata": {
        "colab": {
          "base_uri": "https://localhost:8080/",
          "height": 296
        },
        "id": "vv57VPC8R2rT",
        "outputId": "8b354d5f-35b5-4be7-ba14-11e7d6623b6e"
      },
      "source": [
        "sns.boxplot(df1['Visibility (10m)'])"
      ],
      "execution_count": 529,
      "outputs": [
        {
          "output_type": "execute_result",
          "data": {
            "text/plain": [
              "<matplotlib.axes._subplots.AxesSubplot at 0x7f624fd68b90>"
            ]
          },
          "metadata": {},
          "execution_count": 529
        },
        {
          "output_type": "display_data",
          "data": {
            "image/png": "[encoded data removed]",
            "text/plain": [
              "<Figure size 432x288 with 1 Axes>"
            ]
          },
          "metadata": {
            "needs_background": "light"
          }
        }
      ]
    },
    {
      "cell_type": "code",
      "metadata": {
        "colab": {
          "base_uri": "https://localhost:8080/",
          "height": 296
        },
        "id": "dgdszZLtR2um",
        "outputId": "568dbd7b-730c-48d1-a577-83d6f3608dda"
      },
      "source": [
        "sns.boxplot(df1['Dew point temperature(C)'])"
      ],
      "execution_count": 530,
      "outputs": [
        {
          "output_type": "execute_result",
          "data": {
            "text/plain": [
              "<matplotlib.axes._subplots.AxesSubplot at 0x7f624fd76c10>"
            ]
          },
          "metadata": {},
          "execution_count": 530
        },
        {
          "output_type": "display_data",
          "data": {
            "image/png": "[encoded data removed]",
            "text/plain": [
              "<Figure size 432x288 with 1 Axes>"
            ]
          },
          "metadata": {
            "needs_background": "light"
          }
        }
      ]
    },
    {
      "cell_type": "code",
      "metadata": {
        "colab": {
          "base_uri": "https://localhost:8080/",
          "height": 296
        },
        "id": "6yL5J7k_ST2r",
        "outputId": "b4bda516-707d-4822-b3c5-366d9f704f1f"
      },
      "source": [
        "sns.boxplot(df['Solar Radiation (MJ/m2)'])"
      ],
      "execution_count": 531,
      "outputs": [
        {
          "output_type": "execute_result",
          "data": {
            "text/plain": [
              "<matplotlib.axes._subplots.AxesSubplot at 0x7f6250ce32d0>"
            ]
          },
          "metadata": {},
          "execution_count": 531
        },
        {
          "output_type": "display_data",
          "data": {
            "image/png": "[encoded data removed]",
            "text/plain": [
              "<Figure size 432x288 with 1 Axes>"
            ]
          },
          "metadata": {
            "needs_background": "light"
          }
        }
      ]
    },
    {
      "cell_type": "code",
      "metadata": {
        "id": "9gJAvGDEUm3Y"
      },
      "source": [
        "df.rename(columns = {'Solar Radiation (MJ/m2)':'solar_radiation'}, inplace = True)"
      ],
      "execution_count": 532,
      "outputs": []
    },
    {
      "cell_type": "code",
      "metadata": {
        "colab": {
          "base_uri": "https://localhost:8080/"
        },
        "id": "jE1bH3OYU4nn",
        "outputId": "85d1e29b-70e5-44f2-e9b4-7f6ece28579b"
      },
      "source": [
        "Q1 = np.percentile(df['solar_radiation'], 25, interpolation = 'midpoint')  \n",
        "Q2 = np.percentile(df['solar_radiation'], 50, interpolation = 'midpoint')  \n",
        "Q3 = np.percentile(df['solar_radiation'], 75, interpolation = 'midpoint')   \n",
        "print('Q1 25 percentile of the given data is, ', Q1) \n",
        "print('Q1 50 percentile of the given data is, ', Q2) \n",
        "print('Q1 75 percentile of the given data is, ', Q3)   \n",
        "IQR = Q3 - Q1  \n",
        "print('Interquartile range is', IQR)"
      ],
      "execution_count": 533,
      "outputs": [
        {
          "output_type": "stream",
          "name": "stdout",
          "text": [
            "Q1 25 percentile of the given data is,  0.0\n",
            "Q1 50 percentile of the given data is,  0.01\n",
            "Q1 75 percentile of the given data is,  0.93\n",
            "Interquartile range is 0.93\n"
          ]
        }
      ]
    },
    {
      "cell_type": "code",
      "metadata": {
        "colab": {
          "base_uri": "https://localhost:8080/"
        },
        "id": "qhCGE43OVGS6",
        "outputId": "532db64c-39c2-4194-9160-5e96036a385f"
      },
      "source": [
        "low_lim = Q1 - 1.5 * IQR \n",
        "up_lim = Q3 + 1.5 * IQR \n",
        "print('low_limit is', low_lim) \n",
        "print('up_limit is', up_lim) "
      ],
      "execution_count": 534,
      "outputs": [
        {
          "output_type": "stream",
          "name": "stdout",
          "text": [
            "low_limit is -1.395\n",
            "up_limit is 2.325\n"
          ]
        }
      ]
    },
    {
      "cell_type": "code",
      "metadata": {
        "id": "fqFb8-zcVLjj"
      },
      "source": [
        "df1 = df[df.solar_radiation< 2.325]"
      ],
      "execution_count": 535,
      "outputs": []
    },
    {
      "cell_type": "code",
      "metadata": {
        "colab": {
          "base_uri": "https://localhost:8080/",
          "height": 297
        },
        "id": "du9awPmqVcib",
        "outputId": "2adea56b-4630-4ec1-a9a3-a9752d82aa43"
      },
      "source": [
        "sns.boxplot(df1['solar_radiation'])"
      ],
      "execution_count": 536,
      "outputs": [
        {
          "output_type": "execute_result",
          "data": {
            "text/plain": [
              "<matplotlib.axes._subplots.AxesSubplot at 0x7f62502d2f90>"
            ]
          },
          "metadata": {},
          "execution_count": 536
        },
        {
          "output_type": "display_data",
          "data": {
            "image/png": "[encoded data removed]",
            "text/plain": [
              "<Figure size 432x288 with 1 Axes>"
            ]
          },
          "metadata": {
            "needs_background": "light"
          }
        }
      ]
    },
    {
      "cell_type": "code",
      "metadata": {
        "colab": {
          "base_uri": "https://localhost:8080/"
        },
        "id": "DeaA8T0kVqBB",
        "outputId": "ce1df2ef-e4c5-4988-f6b0-5259e29f9ed2"
      },
      "source": [
        "df1.info()"
      ],
      "execution_count": 537,
      "outputs": [
        {
          "output_type": "stream",
          "name": "stdout",
          "text": [
            "<class 'pandas.core.frame.DataFrame'>\n",
            "Int64Index: 8119 entries, 0 to 8759\n",
            "Data columns (total 17 columns):\n",
            " #   Column                    Non-Null Count  Dtype         \n",
            "---  ------                    --------------  -----         \n",
            " 0   Date                      8119 non-null   datetime64[ns]\n",
            " 1   RBC                       8119 non-null   int64         \n",
            " 2   Hour                      8119 non-null   int64         \n",
            " 3   Temperature(C)            8119 non-null   float64       \n",
            " 4   Humidity(%)               8119 non-null   int64         \n",
            " 5   WS                        8119 non-null   float64       \n",
            " 6   Visibility (10m)          8119 non-null   int64         \n",
            " 7   Dew point temperature(C)  8119 non-null   float64       \n",
            " 8   solar_radiation           8119 non-null   float64       \n",
            " 9   Rainfall(mm)              8119 non-null   float64       \n",
            " 10  Snowfall (cm)             8119 non-null   float64       \n",
            " 11  Seasons                   8119 non-null   object        \n",
            " 12  Holiday                   8119 non-null   object        \n",
            " 13  Functioning Day           8119 non-null   object        \n",
            " 14  Month                     8119 non-null   int64         \n",
            " 15  Year                      8119 non-null   int64         \n",
            " 16  tday                      8119 non-null   int64         \n",
            "dtypes: datetime64[ns](1), float64(6), int64(7), object(3)\n",
            "memory usage: 1.1+ MB\n"
          ]
        }
      ]
    },
    {
      "cell_type": "code",
      "metadata": {
        "colab": {
          "base_uri": "https://localhost:8080/",
          "height": 296
        },
        "id": "jU50M_fbSdoE",
        "outputId": "db7398d1-9502-4da7-e959-28eaac8bf928"
      },
      "source": [
        "sns.boxplot(df1['Rainfall(mm)'])"
      ],
      "execution_count": 538,
      "outputs": [
        {
          "output_type": "execute_result",
          "data": {
            "text/plain": [
              "<matplotlib.axes._subplots.AxesSubplot at 0x7f62501c43d0>"
            ]
          },
          "metadata": {},
          "execution_count": 538
        },
        {
          "output_type": "display_data",
          "data": {
            "image/png": "[encoded data removed]",
            "text/plain": [
              "<Figure size 432x288 with 1 Axes>"
            ]
          },
          "metadata": {
            "needs_background": "light"
          }
        }
      ]
    },
    {
      "cell_type": "code",
      "metadata": {
        "colab": {
          "base_uri": "https://localhost:8080/"
        },
        "id": "_dZ_VUEKVuNh",
        "outputId": "ec49d26e-4017-4785-c879-65b8065737ab"
      },
      "source": [
        "Q1 = np.percentile(df['Rainfall(mm)'], 25, interpolation = 'midpoint')  \n",
        "Q2 = np.percentile(df['Rainfall(mm)'], 50, interpolation = 'midpoint')  \n",
        "Q3 = np.percentile(df['Rainfall(mm)'], 75, interpolation = 'midpoint')   \n",
        "print('Q1 25 percentile of the given data is, ', Q1) \n",
        "print('Q1 50 percentile of the given data is, ', Q2) \n",
        "print('Q1 75 percentile of the given data is, ', Q3)   \n",
        "IQR = Q3 - Q1  \n",
        "print('Interquartile range is', IQR)"
      ],
      "execution_count": 539,
      "outputs": [
        {
          "output_type": "stream",
          "name": "stdout",
          "text": [
            "Q1 25 percentile of the given data is,  0.0\n",
            "Q1 50 percentile of the given data is,  0.0\n",
            "Q1 75 percentile of the given data is,  0.0\n",
            "Interquartile range is 0.0\n"
          ]
        }
      ]
    },
    {
      "cell_type": "code",
      "metadata": {
        "colab": {
          "base_uri": "https://localhost:8080/",
          "height": 296
        },
        "id": "cJrIT8ScSjCx",
        "outputId": "1dd534e7-6ac0-461a-9c71-1ce0124a39e4"
      },
      "source": [
        "sns.boxplot(df1['Snowfall (cm)'])"
      ],
      "execution_count": 540,
      "outputs": [
        {
          "output_type": "execute_result",
          "data": {
            "text/plain": [
              "<matplotlib.axes._subplots.AxesSubplot at 0x7f62510a28d0>"
            ]
          },
          "metadata": {},
          "execution_count": 540
        },
        {
          "output_type": "display_data",
          "data": {
            "image/png": "[encoded data removed]",
            "text/plain": [
              "<Figure size 432x288 with 1 Axes>"
            ]
          },
          "metadata": {
            "needs_background": "light"
          }
        }
      ]
    },
    {
      "cell_type": "markdown",
      "metadata": {
        "id": "tMP9Ot-oMRHU"
      },
      "source": [
        "### Plot the correlation between the variables and state your comments"
      ]
    },
    {
      "cell_type": "code",
      "metadata": {
        "id": "q9FxCy9CSdGI"
      },
      "source": [
        ""
      ],
      "execution_count": 540,
      "outputs": []
    },
    {
      "cell_type": "code",
      "metadata": {
        "id": "GTa-bPmgRvco"
      },
      "source": [
        ""
      ],
      "execution_count": 540,
      "outputs": []
    },
    {
      "cell_type": "markdown",
      "metadata": {
        "id": "AHKmgToioQy9"
      },
      "source": [
        "###Co-relation matrix:"
      ]
    },
    {
      "cell_type": "code",
      "metadata": {
        "colab": {
          "base_uri": "https://localhost:8080/",
          "height": 506
        },
        "id": "vB8ZWN1FO_3Z",
        "outputId": "fda1f054-7a8f-455f-ed56-36cdc2a77a8f"
      },
      "source": [
        "# use the corr() function to generate the correlation matrix of the numeric variables\n",
        "corrmat = df1.corr()\n",
        "\n",
        "# print the correlation matrix\n",
        "corrmat"
      ],
      "execution_count": 541,
      "outputs": [
        {
          "output_type": "execute_result",
          "data": {
            "text/html": [
              "<div>\n",
              "<style scoped>\n",
              "    .dataframe tbody tr th:only-of-type {\n",
              "        vertical-align: middle;\n",
              "    }\n",
              "\n",
              "    .dataframe tbody tr th {\n",
              "        vertical-align: top;\n",
              "    }\n",
              "\n",
              "    .dataframe thead th {\n",
              "        text-align: right;\n",
              "    }\n",
              "</style>\n",
              "<table border=\"1\" class=\"dataframe\">\n",
              "  <thead>\n",
              "    <tr style=\"text-align: right;\">\n",
              "      <th></th>\n",
              "      <th>RBC</th>\n",
              "      <th>Hour</th>\n",
              "      <th>Temperature(C)</th>\n",
              "      <th>Humidity(%)</th>\n",
              "      <th>WS</th>\n",
              "      <th>Visibility (10m)</th>\n",
              "      <th>Dew point temperature(C)</th>\n",
              "      <th>solar_radiation</th>\n",
              "      <th>Rainfall(mm)</th>\n",
              "      <th>Snowfall (cm)</th>\n",
              "      <th>Month</th>\n",
              "      <th>Year</th>\n",
              "      <th>tday</th>\n",
              "    </tr>\n",
              "  </thead>\n",
              "  <tbody>\n",
              "    <tr>\n",
              "      <th>RBC</th>\n",
              "      <td>1.000000</td>\n",
              "      <td>0.410111</td>\n",
              "      <td>0.538829</td>\n",
              "      <td>-0.172236</td>\n",
              "      <td>0.105074</td>\n",
              "      <td>0.193911</td>\n",
              "      <td>0.382971</td>\n",
              "      <td>0.240505</td>\n",
              "      <td>-0.120928</td>\n",
              "      <td>-0.138613</td>\n",
              "      <td>0.078383</td>\n",
              "      <td>0.209128</td>\n",
              "      <td>0.045348</td>\n",
              "    </tr>\n",
              "    <tr>\n",
              "      <th>Hour</th>\n",
              "      <td>0.410111</td>\n",
              "      <td>1.000000</td>\n",
              "      <td>0.113083</td>\n",
              "      <td>-0.235184</td>\n",
              "      <td>0.283799</td>\n",
              "      <td>0.095713</td>\n",
              "      <td>-0.002902</td>\n",
              "      <td>0.147904</td>\n",
              "      <td>0.010987</td>\n",
              "      <td>-0.018707</td>\n",
              "      <td>0.002635</td>\n",
              "      <td>-0.005180</td>\n",
              "      <td>-0.000621</td>\n",
              "    </tr>\n",
              "    <tr>\n",
              "      <th>Temperature(C)</th>\n",
              "      <td>0.538829</td>\n",
              "      <td>0.113083</td>\n",
              "      <td>1.000000</td>\n",
              "      <td>0.246056</td>\n",
              "      <td>-0.086725</td>\n",
              "      <td>0.008339</td>\n",
              "      <td>0.924679</td>\n",
              "      <td>0.243452</td>\n",
              "      <td>0.063546</td>\n",
              "      <td>-0.217033</td>\n",
              "      <td>0.056912</td>\n",
              "      <td>0.375784</td>\n",
              "      <td>0.081707</td>\n",
              "    </tr>\n",
              "    <tr>\n",
              "      <th>Humidity(%)</th>\n",
              "      <td>-0.172236</td>\n",
              "      <td>-0.235184</td>\n",
              "      <td>0.246056</td>\n",
              "      <td>1.000000</td>\n",
              "      <td>-0.313250</td>\n",
              "      <td>-0.549532</td>\n",
              "      <td>0.585728</td>\n",
              "      <td>-0.408404</td>\n",
              "      <td>0.237735</td>\n",
              "      <td>0.100114</td>\n",
              "      <td>0.037335</td>\n",
              "      <td>0.061717</td>\n",
              "      <td>0.011514</td>\n",
              "    </tr>\n",
              "    <tr>\n",
              "      <th>WS</th>\n",
              "      <td>0.105074</td>\n",
              "      <td>0.283799</td>\n",
              "      <td>-0.086725</td>\n",
              "      <td>-0.313250</td>\n",
              "      <td>1.000000</td>\n",
              "      <td>0.166906</td>\n",
              "      <td>-0.201594</td>\n",
              "      <td>0.301783</td>\n",
              "      <td>-0.013511</td>\n",
              "      <td>0.005627</td>\n",
              "      <td>-0.077236</td>\n",
              "      <td>-0.020630</td>\n",
              "      <td>-0.061038</td>\n",
              "    </tr>\n",
              "    <tr>\n",
              "      <th>Visibility (10m)</th>\n",
              "      <td>0.193911</td>\n",
              "      <td>0.095713</td>\n",
              "      <td>0.008339</td>\n",
              "      <td>-0.549532</td>\n",
              "      <td>0.166906</td>\n",
              "      <td>1.000000</td>\n",
              "      <td>-0.193147</td>\n",
              "      <td>0.127082</td>\n",
              "      <td>-0.168260</td>\n",
              "      <td>-0.120282</td>\n",
              "      <td>0.078709</td>\n",
              "      <td>0.046049</td>\n",
              "      <td>-0.104418</td>\n",
              "    </tr>\n",
              "    <tr>\n",
              "      <th>Dew point temperature(C)</th>\n",
              "      <td>0.382971</td>\n",
              "      <td>-0.002902</td>\n",
              "      <td>0.924679</td>\n",
              "      <td>0.585728</td>\n",
              "      <td>-0.201594</td>\n",
              "      <td>-0.193147</td>\n",
              "      <td>1.000000</td>\n",
              "      <td>0.029351</td>\n",
              "      <td>0.132673</td>\n",
              "      <td>-0.149614</td>\n",
              "      <td>0.063520</td>\n",
              "      <td>0.336698</td>\n",
              "      <td>0.070817</td>\n",
              "    </tr>\n",
              "    <tr>\n",
              "      <th>solar_radiation</th>\n",
              "      <td>0.240505</td>\n",
              "      <td>0.147904</td>\n",
              "      <td>0.243452</td>\n",
              "      <td>-0.408404</td>\n",
              "      <td>0.301783</td>\n",
              "      <td>0.127082</td>\n",
              "      <td>0.029351</td>\n",
              "      <td>1.000000</td>\n",
              "      <td>-0.068970</td>\n",
              "      <td>-0.054556</td>\n",
              "      <td>-0.008837</td>\n",
              "      <td>0.096852</td>\n",
              "      <td>-0.009413</td>\n",
              "    </tr>\n",
              "    <tr>\n",
              "      <th>Rainfall(mm)</th>\n",
              "      <td>-0.120928</td>\n",
              "      <td>0.010987</td>\n",
              "      <td>0.063546</td>\n",
              "      <td>0.237735</td>\n",
              "      <td>-0.013511</td>\n",
              "      <td>-0.168260</td>\n",
              "      <td>0.132673</td>\n",
              "      <td>-0.068970</td>\n",
              "      <td>1.000000</td>\n",
              "      <td>0.006723</td>\n",
              "      <td>-0.024577</td>\n",
              "      <td>0.030826</td>\n",
              "      <td>0.012574</td>\n",
              "    </tr>\n",
              "    <tr>\n",
              "      <th>Snowfall (cm)</th>\n",
              "      <td>-0.138613</td>\n",
              "      <td>-0.018707</td>\n",
              "      <td>-0.217033</td>\n",
              "      <td>0.100114</td>\n",
              "      <td>0.005627</td>\n",
              "      <td>-0.120282</td>\n",
              "      <td>-0.149614</td>\n",
              "      <td>-0.054556</td>\n",
              "      <td>0.006723</td>\n",
              "      <td>1.000000</td>\n",
              "      <td>0.054524</td>\n",
              "      <td>-0.203266</td>\n",
              "      <td>0.105448</td>\n",
              "    </tr>\n",
              "    <tr>\n",
              "      <th>Month</th>\n",
              "      <td>0.078383</td>\n",
              "      <td>0.002635</td>\n",
              "      <td>0.056912</td>\n",
              "      <td>0.037335</td>\n",
              "      <td>-0.077236</td>\n",
              "      <td>0.078709</td>\n",
              "      <td>0.063520</td>\n",
              "      <td>-0.008837</td>\n",
              "      <td>-0.024577</td>\n",
              "      <td>0.054524</td>\n",
              "      <td>1.000000</td>\n",
              "      <td>-0.300849</td>\n",
              "      <td>0.021518</td>\n",
              "    </tr>\n",
              "    <tr>\n",
              "      <th>Year</th>\n",
              "      <td>0.209128</td>\n",
              "      <td>-0.005180</td>\n",
              "      <td>0.375784</td>\n",
              "      <td>0.061717</td>\n",
              "      <td>-0.020630</td>\n",
              "      <td>0.046049</td>\n",
              "      <td>0.336698</td>\n",
              "      <td>0.096852</td>\n",
              "      <td>0.030826</td>\n",
              "      <td>-0.203266</td>\n",
              "      <td>-0.300849</td>\n",
              "      <td>1.000000</td>\n",
              "      <td>-0.087092</td>\n",
              "    </tr>\n",
              "    <tr>\n",
              "      <th>tday</th>\n",
              "      <td>0.045348</td>\n",
              "      <td>-0.000621</td>\n",
              "      <td>0.081707</td>\n",
              "      <td>0.011514</td>\n",
              "      <td>-0.061038</td>\n",
              "      <td>-0.104418</td>\n",
              "      <td>0.070817</td>\n",
              "      <td>-0.009413</td>\n",
              "      <td>0.012574</td>\n",
              "      <td>0.105448</td>\n",
              "      <td>0.021518</td>\n",
              "      <td>-0.087092</td>\n",
              "      <td>1.000000</td>\n",
              "    </tr>\n",
              "  </tbody>\n",
              "</table>\n",
              "</div>"
            ],
            "text/plain": [
              "                               RBC      Hour  ...      Year      tday\n",
              "RBC                       1.000000  0.410111  ...  0.209128  0.045348\n",
              "Hour                      0.410111  1.000000  ... -0.005180 -0.000621\n",
              "Temperature(C)            0.538829  0.113083  ...  0.375784  0.081707\n",
              "Humidity(%)              -0.172236 -0.235184  ...  0.061717  0.011514\n",
              "WS                        0.105074  0.283799  ... -0.020630 -0.061038\n",
              "Visibility (10m)          0.193911  0.095713  ...  0.046049 -0.104418\n",
              "Dew point temperature(C)  0.382971 -0.002902  ...  0.336698  0.070817\n",
              "solar_radiation           0.240505  0.147904  ...  0.096852 -0.009413\n",
              "Rainfall(mm)             -0.120928  0.010987  ...  0.030826  0.012574\n",
              "Snowfall (cm)            -0.138613 -0.018707  ... -0.203266  0.105448\n",
              "Month                     0.078383  0.002635  ... -0.300849  0.021518\n",
              "Year                      0.209128 -0.005180  ...  1.000000 -0.087092\n",
              "tday                      0.045348 -0.000621  ... -0.087092  1.000000\n",
              "\n",
              "[13 rows x 13 columns]"
            ]
          },
          "metadata": {},
          "execution_count": 541
        }
      ]
    },
    {
      "cell_type": "code",
      "metadata": {
        "colab": {
          "base_uri": "https://localhost:8080/",
          "height": 498
        },
        "id": "f4bSITnoPIy0",
        "outputId": "a64fd668-42e7-4cbc-a783-6e6a75a3fc22"
      },
      "source": [
        "# set the plot size\n",
        "# pass the required height and width to the parameter, 'figsize'  \n",
        "plt.figure(figsize = (30,20))\n",
        "\n",
        "# use 'mask' to plot a upper triangular correlation matrix \n",
        "# 'tril_indices_from' returns the indices for the lower-triangle of matrix\n",
        "# 'k = -1' consider the diagonal of the matrix\n",
        "mask = np.zeros_like(corrmat)\n",
        "mask[np.triu_indices_from(mask, k = 1)] = True\n",
        "\n",
        "# plot the heat map\n",
        "# corr: give the correlation matrix\n",
        "# cmap: color code used for plotting\n",
        "# vmax: gives a maximum range of values for the chart\n",
        "# vmin: gives a minimum range of values for the chart\n",
        "# annot: prints the correlation values in the chart\n",
        "# annot_kws: sets the font size of the annotation\n",
        "# mask: mask the upper traingular matrix values\n",
        "sns.heatmap(corrmat, cmap = 'Blues', vmax = 1.0, vmin = -1.0, annot = True, annot_kws = {\"size\": 20}, mask = mask)\n",
        "\n",
        "# set the size of x and y axes labels\n",
        "# set text size using 'fontsize'\n",
        "plt.xticks(fontsize = 20)\n",
        "plt.yticks(fontsize = 20)\n",
        "\n",
        "# display the plot\n",
        "plt.show()"
      ],
      "execution_count": 542,
      "outputs": [
        {
          "output_type": "display_data",
          "data": {
            "image/png": "[encoded data removed]",
            "text/plain": [
              "<Figure size 2160x1440 with 2 Axes>"
            ]
          },
          "metadata": {
            "needs_background": "light"
          }
        }
      ]
    },
    {
      "cell_type": "markdown",
      "metadata": {
        "id": "g1DGBYbrPxtr"
      },
      "source": [
        "#### There are some Positive correlation between:\n",
        "- Rented Bike Count and Hour\n",
        "- Rented Bike Count and Temperature\n",
        "- Rented Bike Count and Dew Point Temperature\n",
        "- Dew Point Temperature and Temperature and Humidity\n",
        "\n",
        "### There are some Negative correlation between:\n",
        "- Rented Bike Count and Humidity\n",
        "- Humidity and Solar Radiation\n",
        "- Humidity and Visibility\n",
        "- Humidity and Wind speed\n"
      ]
    },
    {
      "cell_type": "code",
      "metadata": {
        "colab": {
          "base_uri": "https://localhost:8080/"
        },
        "id": "fiB3YMrrr2Px",
        "outputId": "16975fc5-9892-446c-bee2-3c1d0660352a"
      },
      "source": [
        "df1.info()"
      ],
      "execution_count": 543,
      "outputs": [
        {
          "output_type": "stream",
          "name": "stdout",
          "text": [
            "<class 'pandas.core.frame.DataFrame'>\n",
            "Int64Index: 8119 entries, 0 to 8759\n",
            "Data columns (total 17 columns):\n",
            " #   Column                    Non-Null Count  Dtype         \n",
            "---  ------                    --------------  -----         \n",
            " 0   Date                      8119 non-null   datetime64[ns]\n",
            " 1   RBC                       8119 non-null   int64         \n",
            " 2   Hour                      8119 non-null   int64         \n",
            " 3   Temperature(C)            8119 non-null   float64       \n",
            " 4   Humidity(%)               8119 non-null   int64         \n",
            " 5   WS                        8119 non-null   float64       \n",
            " 6   Visibility (10m)          8119 non-null   int64         \n",
            " 7   Dew point temperature(C)  8119 non-null   float64       \n",
            " 8   solar_radiation           8119 non-null   float64       \n",
            " 9   Rainfall(mm)              8119 non-null   float64       \n",
            " 10  Snowfall (cm)             8119 non-null   float64       \n",
            " 11  Seasons                   8119 non-null   object        \n",
            " 12  Holiday                   8119 non-null   object        \n",
            " 13  Functioning Day           8119 non-null   object        \n",
            " 14  Month                     8119 non-null   int64         \n",
            " 15  Year                      8119 non-null   int64         \n",
            " 16  tday                      8119 non-null   int64         \n",
            "dtypes: datetime64[ns](1), float64(6), int64(7), object(3)\n",
            "memory usage: 1.1+ MB\n"
          ]
        }
      ]
    },
    {
      "cell_type": "code",
      "metadata": {
        "id": "VHp_IkF4XvO7"
      },
      "source": [
        "df1.drop(['Date'],axis='columns', inplace=True)"
      ],
      "execution_count": 544,
      "outputs": []
    },
    {
      "cell_type": "code",
      "metadata": {
        "colab": {
          "base_uri": "https://localhost:8080/"
        },
        "id": "wIzLylR0s9x8",
        "outputId": "109c7a9e-627b-40d5-8f12-9a3ac7cdf717"
      },
      "source": [
        "df1.info()\n"
      ],
      "execution_count": 545,
      "outputs": [
        {
          "output_type": "stream",
          "name": "stdout",
          "text": [
            "<class 'pandas.core.frame.DataFrame'>\n",
            "Int64Index: 8119 entries, 0 to 8759\n",
            "Data columns (total 16 columns):\n",
            " #   Column                    Non-Null Count  Dtype  \n",
            "---  ------                    --------------  -----  \n",
            " 0   RBC                       8119 non-null   int64  \n",
            " 1   Hour                      8119 non-null   int64  \n",
            " 2   Temperature(C)            8119 non-null   float64\n",
            " 3   Humidity(%)               8119 non-null   int64  \n",
            " 4   WS                        8119 non-null   float64\n",
            " 5   Visibility (10m)          8119 non-null   int64  \n",
            " 6   Dew point temperature(C)  8119 non-null   float64\n",
            " 7   solar_radiation           8119 non-null   float64\n",
            " 8   Rainfall(mm)              8119 non-null   float64\n",
            " 9   Snowfall (cm)             8119 non-null   float64\n",
            " 10  Seasons                   8119 non-null   object \n",
            " 11  Holiday                   8119 non-null   object \n",
            " 12  Functioning Day           8119 non-null   object \n",
            " 13  Month                     8119 non-null   int64  \n",
            " 14  Year                      8119 non-null   int64  \n",
            " 15  tday                      8119 non-null   int64  \n",
            "dtypes: float64(6), int64(7), object(3)\n",
            "memory usage: 1.1+ MB\n"
          ]
        }
      ]
    },
    {
      "cell_type": "code",
      "metadata": {
        "colab": {
          "base_uri": "https://localhost:8080/"
        },
        "id": "XwKuSBYIkqdx",
        "outputId": "ffc29a40-e2d4-4f11-94f6-abbe25d896fa"
      },
      "source": [
        "print(df.sample(10))"
      ],
      "execution_count": 546,
      "outputs": [
        {
          "output_type": "stream",
          "name": "stdout",
          "text": [
            "           Date   RBC  Hour  Temperature(C)  ...  Functioning Day  Month  Year  tday\n",
            "372  2017-12-16   252    12            -4.1  ...              Yes     12  2017    16\n",
            "1566 2018-04-02    23     6           -11.8  ...              Yes      4  2018     2\n",
            "4950 2018-06-25   785     6            21.3  ...              Yes      6  2018    25\n",
            "6456 2018-08-27   325     0            20.5  ...              Yes      8  2018    27\n",
            "2033 2018-02-23   470    17             7.9  ...              Yes      2  2018    23\n",
            "8142 2018-05-11   448     6             7.2  ...              Yes      5  2018    11\n",
            "4346 2018-05-31   470     2            15.2  ...              Yes      5  2018    31\n",
            "4980 2018-06-26    10    12            20.5  ...              Yes      6  2018    26\n",
            "4341 2018-05-30  2074    21            18.2  ...              Yes      5  2018    30\n",
            "5786 2018-07-30   363     2            28.0  ...              Yes      7  2018    30\n",
            "\n",
            "[10 rows x 17 columns]\n"
          ]
        }
      ]
    },
    {
      "cell_type": "code",
      "metadata": {
        "colab": {
          "base_uri": "https://localhost:8080/"
        },
        "id": "_Cmn_zuMqsyo",
        "outputId": "6aeb4e93-cbdc-4d7a-b7fb-276b6d853c6c"
      },
      "source": [
        "# filter the numerical features in the dataset using select_dtypes()\n",
        "# include=np.number: selects the numeric features\n",
        "df_numeric_features = df1.select_dtypes(include=np.number)\n",
        "\n",
        "# display the numeric features\n",
        "df_numeric_features.columns"
      ],
      "execution_count": 547,
      "outputs": [
        {
          "output_type": "execute_result",
          "data": {
            "text/plain": [
              "Index(['RBC', 'Hour', 'Temperature(C)', 'Humidity(%)', 'WS',\n",
              "       'Visibility (10m)', 'Dew point temperature(C)', 'solar_radiation',\n",
              "       'Rainfall(mm)', 'Snowfall (cm)', 'Month', 'Year', 'tday'],\n",
              "      dtype='object')"
            ]
          },
          "metadata": {},
          "execution_count": 547
        }
      ]
    },
    {
      "cell_type": "code",
      "metadata": {
        "id": "3Pst5cJTrpbv"
      },
      "source": [
        ""
      ],
      "execution_count": 547,
      "outputs": []
    },
    {
      "cell_type": "code",
      "metadata": {
        "id": "fhur1NjrpFMT",
        "colab": {
          "base_uri": "https://localhost:8080/"
        },
        "outputId": "190b2292-f7fc-42fc-d4f3-71a056ab5575"
      },
      "source": [
        "# filter the categorical features in the dataset using select_dtypes()\n",
        "# include=[np.object]: selects the categoric features\n",
        "\n",
        "df_categoric_features = df1.select_dtypes(include = object)\n",
        "\n",
        "# display categorical features\n",
        "df_categoric_features.columns"
      ],
      "execution_count": 548,
      "outputs": [
        {
          "output_type": "execute_result",
          "data": {
            "text/plain": [
              "Index(['Seasons', 'Holiday', 'Functioning Day'], dtype='object')"
            ]
          },
          "metadata": {},
          "execution_count": 548
        }
      ]
    },
    {
      "cell_type": "code",
      "metadata": {
        "id": "quRnpPGUqw0y"
      },
      "source": [
        "# use 'get_dummies()' from pandas to create dummy variables\n",
        "# use 'drop_first = True' to create (n-1) dummy variables\n",
        "dummy_encoded_variables = pd.get_dummies(df_categoric_features, drop_first = True)"
      ],
      "execution_count": 549,
      "outputs": []
    },
    {
      "cell_type": "code",
      "metadata": {
        "colab": {
          "base_uri": "https://localhost:8080/",
          "height": 241
        },
        "id": "aHffslf3q4Fj",
        "outputId": "9fd72aaa-6288-4a52-a19a-adac23e118c4"
      },
      "source": [
        "# concatenate the numerical and dummy encoded categorical variables using concat()\n",
        "# axis=1: specifies that the concatenation is column wise\n",
        "df2 = pd.concat([df_numeric_features, dummy_encoded_variables], axis=1)\n",
        "\n",
        "# display data with dummy variables\n",
        "df2.head()"
      ],
      "execution_count": 550,
      "outputs": [
        {
          "output_type": "execute_result",
          "data": {
            "text/html": [
              "<div>\n",
              "<style scoped>\n",
              "    .dataframe tbody tr th:only-of-type {\n",
              "        vertical-align: middle;\n",
              "    }\n",
              "\n",
              "    .dataframe tbody tr th {\n",
              "        vertical-align: top;\n",
              "    }\n",
              "\n",
              "    .dataframe thead th {\n",
              "        text-align: right;\n",
              "    }\n",
              "</style>\n",
              "<table border=\"1\" class=\"dataframe\">\n",
              "  <thead>\n",
              "    <tr style=\"text-align: right;\">\n",
              "      <th></th>\n",
              "      <th>RBC</th>\n",
              "      <th>Hour</th>\n",
              "      <th>Temperature(C)</th>\n",
              "      <th>Humidity(%)</th>\n",
              "      <th>WS</th>\n",
              "      <th>Visibility (10m)</th>\n",
              "      <th>Dew point temperature(C)</th>\n",
              "      <th>solar_radiation</th>\n",
              "      <th>Rainfall(mm)</th>\n",
              "      <th>Snowfall (cm)</th>\n",
              "      <th>Month</th>\n",
              "      <th>Year</th>\n",
              "      <th>tday</th>\n",
              "      <th>Seasons_Spring</th>\n",
              "      <th>Seasons_Summer</th>\n",
              "      <th>Seasons_Winter</th>\n",
              "      <th>Holiday_No Holiday</th>\n",
              "      <th>Functioning Day_Yes</th>\n",
              "    </tr>\n",
              "  </thead>\n",
              "  <tbody>\n",
              "    <tr>\n",
              "      <th>0</th>\n",
              "      <td>254</td>\n",
              "      <td>0</td>\n",
              "      <td>-5.2</td>\n",
              "      <td>37</td>\n",
              "      <td>2.2</td>\n",
              "      <td>2000</td>\n",
              "      <td>-17.6</td>\n",
              "      <td>0.0</td>\n",
              "      <td>0.0</td>\n",
              "      <td>0.0</td>\n",
              "      <td>1</td>\n",
              "      <td>2017</td>\n",
              "      <td>12</td>\n",
              "      <td>0</td>\n",
              "      <td>0</td>\n",
              "      <td>1</td>\n",
              "      <td>1</td>\n",
              "      <td>1</td>\n",
              "    </tr>\n",
              "    <tr>\n",
              "      <th>1</th>\n",
              "      <td>204</td>\n",
              "      <td>1</td>\n",
              "      <td>-5.5</td>\n",
              "      <td>38</td>\n",
              "      <td>0.8</td>\n",
              "      <td>2000</td>\n",
              "      <td>-17.6</td>\n",
              "      <td>0.0</td>\n",
              "      <td>0.0</td>\n",
              "      <td>0.0</td>\n",
              "      <td>1</td>\n",
              "      <td>2017</td>\n",
              "      <td>12</td>\n",
              "      <td>0</td>\n",
              "      <td>0</td>\n",
              "      <td>1</td>\n",
              "      <td>1</td>\n",
              "      <td>1</td>\n",
              "    </tr>\n",
              "    <tr>\n",
              "      <th>2</th>\n",
              "      <td>173</td>\n",
              "      <td>2</td>\n",
              "      <td>-6.0</td>\n",
              "      <td>39</td>\n",
              "      <td>1.0</td>\n",
              "      <td>2000</td>\n",
              "      <td>-17.7</td>\n",
              "      <td>0.0</td>\n",
              "      <td>0.0</td>\n",
              "      <td>0.0</td>\n",
              "      <td>1</td>\n",
              "      <td>2017</td>\n",
              "      <td>12</td>\n",
              "      <td>0</td>\n",
              "      <td>0</td>\n",
              "      <td>1</td>\n",
              "      <td>1</td>\n",
              "      <td>1</td>\n",
              "    </tr>\n",
              "    <tr>\n",
              "      <th>3</th>\n",
              "      <td>107</td>\n",
              "      <td>3</td>\n",
              "      <td>-6.2</td>\n",
              "      <td>40</td>\n",
              "      <td>0.9</td>\n",
              "      <td>2000</td>\n",
              "      <td>-17.6</td>\n",
              "      <td>0.0</td>\n",
              "      <td>0.0</td>\n",
              "      <td>0.0</td>\n",
              "      <td>1</td>\n",
              "      <td>2017</td>\n",
              "      <td>12</td>\n",
              "      <td>0</td>\n",
              "      <td>0</td>\n",
              "      <td>1</td>\n",
              "      <td>1</td>\n",
              "      <td>1</td>\n",
              "    </tr>\n",
              "    <tr>\n",
              "      <th>4</th>\n",
              "      <td>78</td>\n",
              "      <td>4</td>\n",
              "      <td>-6.0</td>\n",
              "      <td>36</td>\n",
              "      <td>2.3</td>\n",
              "      <td>2000</td>\n",
              "      <td>-18.6</td>\n",
              "      <td>0.0</td>\n",
              "      <td>0.0</td>\n",
              "      <td>0.0</td>\n",
              "      <td>1</td>\n",
              "      <td>2017</td>\n",
              "      <td>12</td>\n",
              "      <td>0</td>\n",
              "      <td>0</td>\n",
              "      <td>1</td>\n",
              "      <td>1</td>\n",
              "      <td>1</td>\n",
              "    </tr>\n",
              "  </tbody>\n",
              "</table>\n",
              "</div>"
            ],
            "text/plain": [
              "   RBC  Hour  ...  Holiday_No Holiday  Functioning Day_Yes\n",
              "0  254     0  ...                   1                    1\n",
              "1  204     1  ...                   1                    1\n",
              "2  173     2  ...                   1                    1\n",
              "3  107     3  ...                   1                    1\n",
              "4   78     4  ...                   1                    1\n",
              "\n",
              "[5 rows x 18 columns]"
            ]
          },
          "metadata": {},
          "execution_count": 550
        }
      ]
    },
    {
      "cell_type": "code",
      "metadata": {
        "colab": {
          "base_uri": "https://localhost:8080/"
        },
        "id": "nv5SXshCrG9C",
        "outputId": "40234b6d-18e3-499a-ce45-e357ca656a7f"
      },
      "source": [
        "\n",
        "df2.info()"
      ],
      "execution_count": 551,
      "outputs": [
        {
          "output_type": "stream",
          "name": "stdout",
          "text": [
            "<class 'pandas.core.frame.DataFrame'>\n",
            "Int64Index: 8119 entries, 0 to 8759\n",
            "Data columns (total 18 columns):\n",
            " #   Column                    Non-Null Count  Dtype  \n",
            "---  ------                    --------------  -----  \n",
            " 0   RBC                       8119 non-null   int64  \n",
            " 1   Hour                      8119 non-null   int64  \n",
            " 2   Temperature(C)            8119 non-null   float64\n",
            " 3   Humidity(%)               8119 non-null   int64  \n",
            " 4   WS                        8119 non-null   float64\n",
            " 5   Visibility (10m)          8119 non-null   int64  \n",
            " 6   Dew point temperature(C)  8119 non-null   float64\n",
            " 7   solar_radiation           8119 non-null   float64\n",
            " 8   Rainfall(mm)              8119 non-null   float64\n",
            " 9   Snowfall (cm)             8119 non-null   float64\n",
            " 10  Month                     8119 non-null   int64  \n",
            " 11  Year                      8119 non-null   int64  \n",
            " 12  tday                      8119 non-null   int64  \n",
            " 13  Seasons_Spring            8119 non-null   uint8  \n",
            " 14  Seasons_Summer            8119 non-null   uint8  \n",
            " 15  Seasons_Winter            8119 non-null   uint8  \n",
            " 16  Holiday_No Holiday        8119 non-null   uint8  \n",
            " 17  Functioning Day_Yes       8119 non-null   uint8  \n",
            "dtypes: float64(6), int64(7), uint8(5)\n",
            "memory usage: 927.7 KB\n"
          ]
        }
      ]
    },
    {
      "cell_type": "code",
      "metadata": {
        "id": "TPtXWcPyUkjM"
      },
      "source": [
        "#Spliting dataframe into train and test by manually as intially we have two dataframes train and test.\n",
        "#df_train = df2[:4059]\n",
        "#df_test = df2[4059:]"
      ],
      "execution_count": 552,
      "outputs": []
    },
    {
      "cell_type": "code",
      "metadata": {
        "id": "tb9gc9-6rGU8",
        "colab": {
          "base_uri": "https://localhost:8080/",
          "height": 456
        },
        "outputId": "8622b6cf-d394-45ff-bd69-1e229d9282c5"
      },
      "source": [
        "import math\n",
        "df2['Year']=df2['Year']-df2['Year'][0]\n",
        "df2['tday']=df2['tday']-df2['tday'][0]\n",
        "df2"
      ],
      "execution_count": 553,
      "outputs": [
        {
          "output_type": "execute_result",
          "data": {
            "text/html": [
              "<div>\n",
              "<style scoped>\n",
              "    .dataframe tbody tr th:only-of-type {\n",
              "        vertical-align: middle;\n",
              "    }\n",
              "\n",
              "    .dataframe tbody tr th {\n",
              "        vertical-align: top;\n",
              "    }\n",
              "\n",
              "    .dataframe thead th {\n",
              "        text-align: right;\n",
              "    }\n",
              "</style>\n",
              "<table border=\"1\" class=\"dataframe\">\n",
              "  <thead>\n",
              "    <tr style=\"text-align: right;\">\n",
              "      <th></th>\n",
              "      <th>RBC</th>\n",
              "      <th>Hour</th>\n",
              "      <th>Temperature(C)</th>\n",
              "      <th>Humidity(%)</th>\n",
              "      <th>WS</th>\n",
              "      <th>Visibility (10m)</th>\n",
              "      <th>Dew point temperature(C)</th>\n",
              "      <th>solar_radiation</th>\n",
              "      <th>Rainfall(mm)</th>\n",
              "      <th>Snowfall (cm)</th>\n",
              "      <th>Month</th>\n",
              "      <th>Year</th>\n",
              "      <th>tday</th>\n",
              "      <th>Seasons_Spring</th>\n",
              "      <th>Seasons_Summer</th>\n",
              "      <th>Seasons_Winter</th>\n",
              "      <th>Holiday_No Holiday</th>\n",
              "      <th>Functioning Day_Yes</th>\n",
              "    </tr>\n",
              "  </thead>\n",
              "  <tbody>\n",
              "    <tr>\n",
              "      <th>0</th>\n",
              "      <td>254</td>\n",
              "      <td>0</td>\n",
              "      <td>-5.2</td>\n",
              "      <td>37</td>\n",
              "      <td>2.2</td>\n",
              "      <td>2000</td>\n",
              "      <td>-17.6</td>\n",
              "      <td>0.0</td>\n",
              "      <td>0.0</td>\n",
              "      <td>0.0</td>\n",
              "      <td>1</td>\n",
              "      <td>0</td>\n",
              "      <td>0</td>\n",
              "      <td>0</td>\n",
              "      <td>0</td>\n",
              "      <td>1</td>\n",
              "      <td>1</td>\n",
              "      <td>1</td>\n",
              "    </tr>\n",
              "    <tr>\n",
              "      <th>1</th>\n",
              "      <td>204</td>\n",
              "      <td>1</td>\n",
              "      <td>-5.5</td>\n",
              "      <td>38</td>\n",
              "      <td>0.8</td>\n",
              "      <td>2000</td>\n",
              "      <td>-17.6</td>\n",
              "      <td>0.0</td>\n",
              "      <td>0.0</td>\n",
              "      <td>0.0</td>\n",
              "      <td>1</td>\n",
              "      <td>0</td>\n",
              "      <td>0</td>\n",
              "      <td>0</td>\n",
              "      <td>0</td>\n",
              "      <td>1</td>\n",
              "      <td>1</td>\n",
              "      <td>1</td>\n",
              "    </tr>\n",
              "    <tr>\n",
              "      <th>2</th>\n",
              "      <td>173</td>\n",
              "      <td>2</td>\n",
              "      <td>-6.0</td>\n",
              "      <td>39</td>\n",
              "      <td>1.0</td>\n",
              "      <td>2000</td>\n",
              "      <td>-17.7</td>\n",
              "      <td>0.0</td>\n",
              "      <td>0.0</td>\n",
              "      <td>0.0</td>\n",
              "      <td>1</td>\n",
              "      <td>0</td>\n",
              "      <td>0</td>\n",
              "      <td>0</td>\n",
              "      <td>0</td>\n",
              "      <td>1</td>\n",
              "      <td>1</td>\n",
              "      <td>1</td>\n",
              "    </tr>\n",
              "    <tr>\n",
              "      <th>3</th>\n",
              "      <td>107</td>\n",
              "      <td>3</td>\n",
              "      <td>-6.2</td>\n",
              "      <td>40</td>\n",
              "      <td>0.9</td>\n",
              "      <td>2000</td>\n",
              "      <td>-17.6</td>\n",
              "      <td>0.0</td>\n",
              "      <td>0.0</td>\n",
              "      <td>0.0</td>\n",
              "      <td>1</td>\n",
              "      <td>0</td>\n",
              "      <td>0</td>\n",
              "      <td>0</td>\n",
              "      <td>0</td>\n",
              "      <td>1</td>\n",
              "      <td>1</td>\n",
              "      <td>1</td>\n",
              "    </tr>\n",
              "    <tr>\n",
              "      <th>4</th>\n",
              "      <td>78</td>\n",
              "      <td>4</td>\n",
              "      <td>-6.0</td>\n",
              "      <td>36</td>\n",
              "      <td>2.3</td>\n",
              "      <td>2000</td>\n",
              "      <td>-18.6</td>\n",
              "      <td>0.0</td>\n",
              "      <td>0.0</td>\n",
              "      <td>0.0</td>\n",
              "      <td>1</td>\n",
              "      <td>0</td>\n",
              "      <td>0</td>\n",
              "      <td>0</td>\n",
              "      <td>0</td>\n",
              "      <td>1</td>\n",
              "      <td>1</td>\n",
              "      <td>1</td>\n",
              "    </tr>\n",
              "    <tr>\n",
              "      <th>...</th>\n",
              "      <td>...</td>\n",
              "      <td>...</td>\n",
              "      <td>...</td>\n",
              "      <td>...</td>\n",
              "      <td>...</td>\n",
              "      <td>...</td>\n",
              "      <td>...</td>\n",
              "      <td>...</td>\n",
              "      <td>...</td>\n",
              "      <td>...</td>\n",
              "      <td>...</td>\n",
              "      <td>...</td>\n",
              "      <td>...</td>\n",
              "      <td>...</td>\n",
              "      <td>...</td>\n",
              "      <td>...</td>\n",
              "      <td>...</td>\n",
              "      <td>...</td>\n",
              "    </tr>\n",
              "    <tr>\n",
              "      <th>8755</th>\n",
              "      <td>1003</td>\n",
              "      <td>19</td>\n",
              "      <td>4.2</td>\n",
              "      <td>34</td>\n",
              "      <td>2.6</td>\n",
              "      <td>1894</td>\n",
              "      <td>-10.3</td>\n",
              "      <td>0.0</td>\n",
              "      <td>0.0</td>\n",
              "      <td>0.0</td>\n",
              "      <td>11</td>\n",
              "      <td>1</td>\n",
              "      <td>18</td>\n",
              "      <td>0</td>\n",
              "      <td>0</td>\n",
              "      <td>0</td>\n",
              "      <td>1</td>\n",
              "      <td>1</td>\n",
              "    </tr>\n",
              "    <tr>\n",
              "      <th>8756</th>\n",
              "      <td>764</td>\n",
              "      <td>20</td>\n",
              "      <td>3.4</td>\n",
              "      <td>37</td>\n",
              "      <td>2.3</td>\n",
              "      <td>2000</td>\n",
              "      <td>-9.9</td>\n",
              "      <td>0.0</td>\n",
              "      <td>0.0</td>\n",
              "      <td>0.0</td>\n",
              "      <td>11</td>\n",
              "      <td>1</td>\n",
              "      <td>18</td>\n",
              "      <td>0</td>\n",
              "      <td>0</td>\n",
              "      <td>0</td>\n",
              "      <td>1</td>\n",
              "      <td>1</td>\n",
              "    </tr>\n",
              "    <tr>\n",
              "      <th>8757</th>\n",
              "      <td>694</td>\n",
              "      <td>21</td>\n",
              "      <td>2.6</td>\n",
              "      <td>39</td>\n",
              "      <td>0.3</td>\n",
              "      <td>1968</td>\n",
              "      <td>-9.9</td>\n",
              "      <td>0.0</td>\n",
              "      <td>0.0</td>\n",
              "      <td>0.0</td>\n",
              "      <td>11</td>\n",
              "      <td>1</td>\n",
              "      <td>18</td>\n",
              "      <td>0</td>\n",
              "      <td>0</td>\n",
              "      <td>0</td>\n",
              "      <td>1</td>\n",
              "      <td>1</td>\n",
              "    </tr>\n",
              "    <tr>\n",
              "      <th>8758</th>\n",
              "      <td>712</td>\n",
              "      <td>22</td>\n",
              "      <td>2.1</td>\n",
              "      <td>41</td>\n",
              "      <td>1.0</td>\n",
              "      <td>1859</td>\n",
              "      <td>-9.8</td>\n",
              "      <td>0.0</td>\n",
              "      <td>0.0</td>\n",
              "      <td>0.0</td>\n",
              "      <td>11</td>\n",
              "      <td>1</td>\n",
              "      <td>18</td>\n",
              "      <td>0</td>\n",
              "      <td>0</td>\n",
              "      <td>0</td>\n",
              "      <td>1</td>\n",
              "      <td>1</td>\n",
              "    </tr>\n",
              "    <tr>\n",
              "      <th>8759</th>\n",
              "      <td>584</td>\n",
              "      <td>23</td>\n",
              "      <td>1.9</td>\n",
              "      <td>43</td>\n",
              "      <td>1.3</td>\n",
              "      <td>1909</td>\n",
              "      <td>-9.3</td>\n",
              "      <td>0.0</td>\n",
              "      <td>0.0</td>\n",
              "      <td>0.0</td>\n",
              "      <td>11</td>\n",
              "      <td>1</td>\n",
              "      <td>18</td>\n",
              "      <td>0</td>\n",
              "      <td>0</td>\n",
              "      <td>0</td>\n",
              "      <td>1</td>\n",
              "      <td>1</td>\n",
              "    </tr>\n",
              "  </tbody>\n",
              "</table>\n",
              "<p>8119 rows × 18 columns</p>\n",
              "</div>"
            ],
            "text/plain": [
              "       RBC  Hour  ...  Holiday_No Holiday  Functioning Day_Yes\n",
              "0      254     0  ...                   1                    1\n",
              "1      204     1  ...                   1                    1\n",
              "2      173     2  ...                   1                    1\n",
              "3      107     3  ...                   1                    1\n",
              "4       78     4  ...                   1                    1\n",
              "...    ...   ...  ...                 ...                  ...\n",
              "8755  1003    19  ...                   1                    1\n",
              "8756   764    20  ...                   1                    1\n",
              "8757   694    21  ...                   1                    1\n",
              "8758   712    22  ...                   1                    1\n",
              "8759   584    23  ...                   1                    1\n",
              "\n",
              "[8119 rows x 18 columns]"
            ]
          },
          "metadata": {},
          "execution_count": 553
        }
      ]
    },
    {
      "cell_type": "markdown",
      "metadata": {
        "id": "ai9xa_ZNaN2n"
      },
      "source": [
        "##Build LR model:"
      ]
    },
    {
      "cell_type": "code",
      "metadata": {
        "id": "yfpN76lxX7J5"
      },
      "source": [
        "from sklearn.model_selection import train_test_split\n",
        "train, val = train_test_split(df2, test_size=0.25)"
      ],
      "execution_count": 554,
      "outputs": []
    },
    {
      "cell_type": "code",
      "metadata": {
        "id": "DGDc6_kWXJji"
      },
      "source": [
        "#considering only the highly correlated features for training and validation\n",
        "train_x = train.drop(['RBC'], axis = 1)\n",
        "train_y = train['RBC']             # output of the training data\n",
        "\n",
        "val_x = val.drop(['RBC'], axis = 1)\n",
        "val_y = val['RBC']"
      ],
      "execution_count": 555,
      "outputs": []
    },
    {
      "cell_type": "code",
      "metadata": {
        "colab": {
          "base_uri": "https://localhost:8080/"
        },
        "id": "JYdB5tizX9q7",
        "outputId": "68034fae-f280-40f5-a5a4-33a4c59c76a4"
      },
      "source": [
        "print('Dimension of train_x dataframe:',train_x.shape)\n",
        "print('Dimension of train_y dataframe:',train_y.shape)\n",
        "print('Dimension of val_x dataframe:',val_x.shape)\n",
        "print('Dimension of val_y dataframe:',val_y.shape)"
      ],
      "execution_count": 556,
      "outputs": [
        {
          "output_type": "stream",
          "name": "stdout",
          "text": [
            "Dimension of train_x dataframe: (6089, 17)\n",
            "Dimension of train_y dataframe: (6089,)\n",
            "Dimension of val_x dataframe: (2030, 17)\n",
            "Dimension of val_y dataframe: (2030,)\n"
          ]
        }
      ]
    },
    {
      "cell_type": "code",
      "metadata": {
        "colab": {
          "base_uri": "https://localhost:8080/"
        },
        "id": "PFZsvUmsYFNM",
        "outputId": "8a248c16-58db-4c01-a1a4-b630506f0594"
      },
      "source": [
        "from sklearn.linear_model import LinearRegression\n",
        "ln_reg = LinearRegression()\n",
        "ln_reg.fit(train_x, train_y)"
      ],
      "execution_count": 557,
      "outputs": [
        {
          "output_type": "execute_result",
          "data": {
            "text/plain": [
              "LinearRegression(copy_X=True, fit_intercept=True, n_jobs=None, normalize=False)"
            ]
          },
          "metadata": {},
          "execution_count": 557
        }
      ]
    },
    {
      "cell_type": "markdown",
      "metadata": {
        "id": "gAfKTh1lo-IC"
      },
      "source": [
        "##Model Stats:"
      ]
    },
    {
      "cell_type": "code",
      "metadata": {
        "id": "qOynxl5UYN0W",
        "colab": {
          "base_uri": "https://localhost:8080/"
        },
        "outputId": "1653e548-2d89-403d-d57e-2d6531a7dca5"
      },
      "source": [
        "from sklearn.metrics import mean_squared_error,mean_absolute_error, r2_score\n",
        "\n",
        "df_pred = ln_reg.predict(val_x)\n",
        "print('Mean Absolute Error of linear regression:',mean_absolute_error(df_pred, val_y))\n",
        "print('Mean Square Error of linear regression:', mean_squared_error(df_pred, val_y))\n",
        "print('R_Squared Score of linear regression:', r2_score(val_y,df_pred))"
      ],
      "execution_count": 558,
      "outputs": [
        {
          "output_type": "stream",
          "name": "stdout",
          "text": [
            "Mean Absolute Error of linear regression: 329.69186478025716\n",
            "Mean Square Error of linear regression: 196537.62918108216\n",
            "R_Squared Score of linear regression: 0.5377644765957019\n"
          ]
        }
      ]
    },
    {
      "cell_type": "markdown",
      "metadata": {
        "id": "Dlqo38UEqD81"
      },
      "source": [
        "##Fitting in another model"
      ]
    },
    {
      "cell_type": "code",
      "metadata": {
        "id": "PnLnXKX4jta6"
      },
      "source": [
        "import statsmodels.api as sm"
      ],
      "execution_count": 559,
      "outputs": []
    },
    {
      "cell_type": "code",
      "metadata": {
        "colab": {
          "base_uri": "https://localhost:8080/"
        },
        "id": "naD7nlWKs3LC",
        "outputId": "c7bce252-1709-4d23-c649-75934ade6256"
      },
      "source": [
        "#Ridge\n",
        "from sklearn.linear_model import Ridge\n",
        "X=df2.drop('RBC',axis=1)\n",
        "Y=df2['RBC']\n",
        "x_train,y_train,x_test,y_test = train_test_split( X, Y, test_size = 0.2,random_state=0)\n",
        "ridge = Ridge()\n",
        "ridge\n",
        "ridge.fit(x_train,x_test)\n",
        "rp=ridge.predict(y_train)\n",
        "#ridge_score = ridge.score(rp,y_test)\n",
        "coeff_used = np.sum(ridge.coef_ != 0)\n",
        "ridge.coef_\n",
        "print(\"L2 Regression:\")\n",
        "print(\"R-square score:\", r2_score(y_test,rp))\n",
        "#print(\"training score\",ridge_score)\n",
        "print(\"number of feature used:\",coeff_used)"
      ],
      "execution_count": 560,
      "outputs": [
        {
          "output_type": "stream",
          "name": "stdout",
          "text": [
            "L2 Regression:\n",
            "R-square score: 0.5614229070588099\n",
            "number of feature used: 17\n"
          ]
        }
      ]
    },
    {
      "cell_type": "code",
      "metadata": {
        "colab": {
          "base_uri": "https://localhost:8080/"
        },
        "id": "Jt5KxVnHuwWa",
        "outputId": "9f6f1b77-36ed-4608-c4d9-778241c6eaba"
      },
      "source": [
        "#Lasso\n",
        "from sklearn.linear_model import Lasso \n",
        "lasso = Lasso()\n",
        "lasso\n",
        "lasso.fit(x_train,x_test)\n",
        "lp=lasso.predict(y_train)\n",
        "#lasso_score = lasso.score()\n",
        "coeff_used = np.sum(lasso.coef_ != 0)\n",
        "lasso.coef_\n",
        "print(\"L1 Regression:\")\n",
        "print(\"R-squared score:\",r2_score(y_test,lp))\n",
        "#print(\"training score\",lasso_score)\n",
        "print(\"number of feature used:\",coeff_used)"
      ],
      "execution_count": 561,
      "outputs": [
        {
          "output_type": "stream",
          "name": "stdout",
          "text": [
            "L1 Regression:\n",
            "R-squared score: 0.5602724039724054\n",
            "number of feature used: 17\n"
          ]
        }
      ]
    },
    {
      "cell_type": "code",
      "metadata": {
        "colab": {
          "base_uri": "https://localhost:8080/"
        },
        "id": "xIKTbkDHlVH9",
        "outputId": "4e761546-6ef1-4f5f-bfa9-53a80ffcfec1"
      },
      "source": [
        "X = df2.drop(['RBC'], axis = 1)\n",
        "\n",
        "# extract the target variable from the data set\n",
        "y = df2[['RBC']]\n",
        "\n",
        "# split data into train subset and test subset for predictor and target variables\n",
        "# 'test_size' returns the proportion of data to be included in the test set\n",
        "# set 'random_state' to generate the same dataset each time you run the code \n",
        "X_train, X_test, y_train, y_test = train_test_split(X, y, test_size = 0.3, random_state = 1)\n",
        "\n",
        "# check the dimensions of the train & test subset for \n",
        "# print dimension of predictors train set\n",
        "print(\"The shape of X_train is:\",X_train.shape)\n",
        "\n",
        "# print dimension of predictors test set\n",
        "print(\"The shape of X_test is:\",X_test.shape)\n",
        "\n",
        "# print dimension of target train set\n",
        "print(\"The shape of y_train is:\",y_train.shape)\n",
        "\n",
        "# print dimension of target test set\n",
        "print(\"The shape of y_test is:\",y_test.shape)"
      ],
      "execution_count": 562,
      "outputs": [
        {
          "output_type": "stream",
          "name": "stdout",
          "text": [
            "The shape of X_train is: (5683, 17)\n",
            "The shape of X_test is: (2436, 17)\n",
            "The shape of y_train is: (5683, 1)\n",
            "The shape of y_test is: (2436, 1)\n"
          ]
        }
      ]
    },
    {
      "cell_type": "code",
      "metadata": {
        "colab": {
          "base_uri": "https://localhost:8080/"
        },
        "id": "E0f9i9C7mkbb",
        "outputId": "2410078e-d30e-45e6-d3cb-a5978b239f6f"
      },
      "source": [
        "# build a full model using OLS()\\\n",
        "# use fit() to fit the model on train data\n",
        "linreg_full_model = sm.OLS(y_train['RBC'], X_train).fit()\n",
        "\n",
        "# print the summary output\n",
        "print(linreg_full_model.summary())"
      ],
      "execution_count": 563,
      "outputs": [
        {
          "output_type": "stream",
          "name": "stdout",
          "text": [
            "                                 OLS Regression Results                                \n",
            "=======================================================================================\n",
            "Dep. Variable:                    RBC   R-squared (uncentered):                   0.786\n",
            "Model:                            OLS   Adj. R-squared (uncentered):              0.785\n",
            "Method:                 Least Squares   F-statistic:                              1224.\n",
            "Date:                Tue, 07 Sep 2021   Prob (F-statistic):                        0.00\n",
            "Time:                        00:51:54   Log-Likelihood:                         -42618.\n",
            "No. Observations:                5683   AIC:                                  8.527e+04\n",
            "Df Residuals:                    5666   BIC:                                  8.538e+04\n",
            "Df Model:                          17                                                  \n",
            "Covariance Type:            nonrobust                                                  \n",
            "============================================================================================\n",
            "                               coef    std err          t      P>|t|      [0.025      0.975]\n",
            "--------------------------------------------------------------------------------------------\n",
            "Hour                        27.0995      0.892     30.381      0.000      25.351      28.848\n",
            "Temperature(C)              16.1555      2.655      6.086      0.000      10.952      21.359\n",
            "Humidity(%)                -10.9504      0.607    -18.046      0.000     -12.140      -9.761\n",
            "WS                          18.2990      6.411      2.855      0.004       5.732      30.866\n",
            "Visibility (10m)             0.0111      0.012      0.935      0.350      -0.012       0.034\n",
            "Dew point temperature(C)    11.9160      2.854      4.175      0.000       6.320      17.512\n",
            "solar_radiation            -44.6749     11.961     -3.735      0.000     -68.123     -21.227\n",
            "Rainfall(mm)               -54.2911      4.802    -11.305      0.000     -63.706     -44.877\n",
            "Snowfall (cm)               30.0635     13.566      2.216      0.027       3.469      56.658\n",
            "Month                        0.4364      2.065      0.211      0.833      -3.612       4.485\n",
            "Year                      -101.6066     26.682     -3.808      0.000    -153.913     -49.300\n",
            "tday                        -1.2061      0.687     -1.756      0.079      -2.553       0.140\n",
            "Seasons_Spring            -140.2940     19.262     -7.283      0.000    -178.055    -102.532\n",
            "Seasons_Summer            -152.9638     22.242     -6.877      0.000    -196.567    -109.361\n",
            "Seasons_Winter            -384.6455     28.528    -13.483      0.000    -440.571    -328.720\n",
            "Holiday_No Holiday         143.3907     27.093      5.293      0.000      90.279     196.503\n",
            "Functioning Day_Yes        927.3342     32.762     28.306      0.000     863.109     991.559\n",
            "==============================================================================\n",
            "Omnibus:                      908.529   Durbin-Watson:                   1.980\n",
            "Prob(Omnibus):                  0.000   Jarque-Bera (JB):             1750.121\n",
            "Skew:                           0.988   Prob(JB):                         0.00\n",
            "Kurtosis:                       4.867   Cond. No.                     1.00e+04\n",
            "==============================================================================\n",
            "\n",
            "Warnings:\n",
            "[1] Standard Errors assume that the covariance matrix of the errors is correctly specified.\n",
            "[2] The condition number is large,  1e+04. This might indicate that there are\n",
            "strong multicollinearity or other numerical problems.\n"
          ]
        }
      ]
    }
  ]
}